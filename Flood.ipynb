{
 "cells": [
  {
   "cell_type": "code",
   "execution_count": 927,
   "metadata": {},
   "outputs": [],
   "source": [
    "#Imports\n",
    "import pandas as pd\n",
    "import numpy as np\n",
    "from matplotlib import pyplot as plt"
   ]
  },
  {
   "cell_type": "markdown",
   "metadata": {},
   "source": [
    "# Feature Engineering\n",
    "\n",
    "**This datasets don't have better features. And also features in this datasets are not perfect**\n",
    "\n"
   ]
  },
  {
   "cell_type": "code",
   "execution_count": 928,
   "metadata": {},
   "outputs": [],
   "source": [
    "rain = pd.read_csv(\"rain.csv\")"
   ]
  },
  {
   "cell_type": "code",
   "execution_count": 929,
   "metadata": {},
   "outputs": [
    {
     "data": {
      "text/html": [
       "<div>\n",
       "<style scoped>\n",
       "    .dataframe tbody tr th:only-of-type {\n",
       "        vertical-align: middle;\n",
       "    }\n",
       "\n",
       "    .dataframe tbody tr th {\n",
       "        vertical-align: top;\n",
       "    }\n",
       "\n",
       "    .dataframe thead th {\n",
       "        text-align: right;\n",
       "    }\n",
       "</style>\n",
       "<table border=\"1\" class=\"dataframe\">\n",
       "  <thead>\n",
       "    <tr style=\"text-align: right;\">\n",
       "      <th></th>\n",
       "      <th>Year</th>\n",
       "      <th>Month</th>\n",
       "      <th>Day</th>\n",
       "      <th>Hour</th>\n",
       "      <th>Minute</th>\n",
       "      <th>Station1</th>\n",
       "      <th>Station2</th>\n",
       "    </tr>\n",
       "  </thead>\n",
       "  <tbody>\n",
       "    <tr>\n",
       "      <th>0</th>\n",
       "      <td>2011</td>\n",
       "      <td>8</td>\n",
       "      <td>31</td>\n",
       "      <td>0</td>\n",
       "      <td>0</td>\n",
       "      <td>0.0</td>\n",
       "      <td>0.0</td>\n",
       "    </tr>\n",
       "    <tr>\n",
       "      <th>1</th>\n",
       "      <td>2011</td>\n",
       "      <td>8</td>\n",
       "      <td>31</td>\n",
       "      <td>0</td>\n",
       "      <td>10</td>\n",
       "      <td>0.0</td>\n",
       "      <td>0.0</td>\n",
       "    </tr>\n",
       "    <tr>\n",
       "      <th>2</th>\n",
       "      <td>2011</td>\n",
       "      <td>8</td>\n",
       "      <td>31</td>\n",
       "      <td>0</td>\n",
       "      <td>20</td>\n",
       "      <td>0.0</td>\n",
       "      <td>0.0</td>\n",
       "    </tr>\n",
       "    <tr>\n",
       "      <th>3</th>\n",
       "      <td>2011</td>\n",
       "      <td>8</td>\n",
       "      <td>31</td>\n",
       "      <td>0</td>\n",
       "      <td>30</td>\n",
       "      <td>0.0</td>\n",
       "      <td>0.0</td>\n",
       "    </tr>\n",
       "    <tr>\n",
       "      <th>4</th>\n",
       "      <td>2011</td>\n",
       "      <td>8</td>\n",
       "      <td>31</td>\n",
       "      <td>0</td>\n",
       "      <td>40</td>\n",
       "      <td>0.0</td>\n",
       "      <td>0.0</td>\n",
       "    </tr>\n",
       "  </tbody>\n",
       "</table>\n",
       "</div>"
      ],
      "text/plain": [
       "   Year  Month  Day  Hour  Minute  Station1  Station2\n",
       "0  2011      8   31     0       0       0.0       0.0\n",
       "1  2011      8   31     0      10       0.0       0.0\n",
       "2  2011      8   31     0      20       0.0       0.0\n",
       "3  2011      8   31     0      30       0.0       0.0\n",
       "4  2011      8   31     0      40       0.0       0.0"
      ]
     },
     "execution_count": 929,
     "metadata": {},
     "output_type": "execute_result"
    }
   ],
   "source": [
    "rain_coor=rain\n",
    "rain.head()\n"
   ]
  },
  {
   "cell_type": "code",
   "execution_count": 930,
   "metadata": {},
   "outputs": [],
   "source": [
    "floods = pd.read_csv(\"floods.csv\",usecols=[0,1,2,3])\n",
    "tide = pd.read_csv(\"floods.csv\",usecols=[4,5,6])"
   ]
  },
  {
   "cell_type": "markdown",
   "metadata": {},
   "source": [
    "**Split floods data to two dataframes (floods,tide)**\n",
    "\n"
   ]
  },
  {
   "cell_type": "code",
   "execution_count": 931,
   "metadata": {},
   "outputs": [
    {
     "data": {
      "text/html": [
       "<div>\n",
       "<style scoped>\n",
       "    .dataframe tbody tr th:only-of-type {\n",
       "        vertical-align: middle;\n",
       "    }\n",
       "\n",
       "    .dataframe tbody tr th {\n",
       "        vertical-align: top;\n",
       "    }\n",
       "\n",
       "    .dataframe thead th {\n",
       "        text-align: right;\n",
       "    }\n",
       "</style>\n",
       "<table border=\"1\" class=\"dataframe\">\n",
       "  <thead>\n",
       "    <tr style=\"text-align: right;\">\n",
       "      <th></th>\n",
       "      <th>Flood_Date</th>\n",
       "      <th>Flood_Hour</th>\n",
       "      <th>Flood_X</th>\n",
       "      <th>Flood_Y</th>\n",
       "    </tr>\n",
       "  </thead>\n",
       "  <tbody>\n",
       "    <tr>\n",
       "      <th>0</th>\n",
       "      <td>08/31/2011</td>\n",
       "      <td>10:37:00 PM</td>\n",
       "      <td>-9.116707</td>\n",
       "      <td>38.729970</td>\n",
       "    </tr>\n",
       "    <tr>\n",
       "      <th>1</th>\n",
       "      <td>09/02/2011</td>\n",
       "      <td>02:30:00 PM</td>\n",
       "      <td>-9.117666</td>\n",
       "      <td>38.738819</td>\n",
       "    </tr>\n",
       "    <tr>\n",
       "      <th>2</th>\n",
       "      <td>09/01/2011</td>\n",
       "      <td>05:42:00 PM</td>\n",
       "      <td>-9.097379</td>\n",
       "      <td>38.772947</td>\n",
       "    </tr>\n",
       "    <tr>\n",
       "      <th>3</th>\n",
       "      <td>09/02/2011</td>\n",
       "      <td>01:35:00 PM</td>\n",
       "      <td>-9.154479</td>\n",
       "      <td>38.777199</td>\n",
       "    </tr>\n",
       "    <tr>\n",
       "      <th>4</th>\n",
       "      <td>08/31/2011</td>\n",
       "      <td>11:08:00 PM</td>\n",
       "      <td>-9.126631</td>\n",
       "      <td>38.773116</td>\n",
       "    </tr>\n",
       "  </tbody>\n",
       "</table>\n",
       "</div>"
      ],
      "text/plain": [
       "   Flood_Date   Flood_Hour   Flood_X    Flood_Y\n",
       "0  08/31/2011  10:37:00 PM -9.116707  38.729970\n",
       "1  09/02/2011  02:30:00 PM -9.117666  38.738819\n",
       "2  09/01/2011  05:42:00 PM -9.097379  38.772947\n",
       "3  09/02/2011  01:35:00 PM -9.154479  38.777199\n",
       "4  08/31/2011  11:08:00 PM -9.126631  38.773116"
      ]
     },
     "execution_count": 931,
     "metadata": {},
     "output_type": "execute_result"
    }
   ],
   "source": [
    "floods.head()"
   ]
  },
  {
   "cell_type": "code",
   "execution_count": 932,
   "metadata": {},
   "outputs": [
    {
     "data": {
      "text/html": [
       "<div>\n",
       "<style scoped>\n",
       "    .dataframe tbody tr th:only-of-type {\n",
       "        vertical-align: middle;\n",
       "    }\n",
       "\n",
       "    .dataframe tbody tr th {\n",
       "        vertical-align: top;\n",
       "    }\n",
       "\n",
       "    .dataframe thead th {\n",
       "        text-align: right;\n",
       "    }\n",
       "</style>\n",
       "<table border=\"1\" class=\"dataframe\">\n",
       "  <thead>\n",
       "    <tr style=\"text-align: right;\">\n",
       "      <th></th>\n",
       "      <th>Tide_Data</th>\n",
       "      <th>Tide_Hour</th>\n",
       "      <th>Tide_Weight</th>\n",
       "    </tr>\n",
       "  </thead>\n",
       "  <tbody>\n",
       "    <tr>\n",
       "      <th>0</th>\n",
       "      <td>08/31/2011</td>\n",
       "      <td>04:29:00 AM</td>\n",
       "      <td>4.04</td>\n",
       "    </tr>\n",
       "    <tr>\n",
       "      <th>1</th>\n",
       "      <td>08/31/2011</td>\n",
       "      <td>10:12:00 AM</td>\n",
       "      <td>0.31</td>\n",
       "    </tr>\n",
       "    <tr>\n",
       "      <th>2</th>\n",
       "      <td>08/31/2011</td>\n",
       "      <td>04:49:00 PM</td>\n",
       "      <td>4.22</td>\n",
       "    </tr>\n",
       "    <tr>\n",
       "      <th>3</th>\n",
       "      <td>08/31/2011</td>\n",
       "      <td>10:38:00 PM</td>\n",
       "      <td>0.33</td>\n",
       "    </tr>\n",
       "    <tr>\n",
       "      <th>4</th>\n",
       "      <td>09/01/2011</td>\n",
       "      <td>05:11:00 AM</td>\n",
       "      <td>3.99</td>\n",
       "    </tr>\n",
       "  </tbody>\n",
       "</table>\n",
       "</div>"
      ],
      "text/plain": [
       "    Tide_Data    Tide_Hour  Tide_Weight\n",
       "0  08/31/2011  04:29:00 AM         4.04\n",
       "1  08/31/2011  10:12:00 AM         0.31\n",
       "2  08/31/2011  04:49:00 PM         4.22\n",
       "3  08/31/2011  10:38:00 PM         0.33\n",
       "4  09/01/2011  05:11:00 AM         3.99"
      ]
     },
     "execution_count": 932,
     "metadata": {},
     "output_type": "execute_result"
    }
   ],
   "source": [
    "tide.head()"
   ]
  },
  {
   "cell_type": "markdown",
   "metadata": {},
   "source": [
    "## check missing data"
   ]
  },
  {
   "cell_type": "code",
   "execution_count": 933,
   "metadata": {},
   "outputs": [
    {
     "data": {
      "text/plain": [
       "Year        0\n",
       "Month       0\n",
       "Day         0\n",
       "Hour        0\n",
       "Minute      0\n",
       "Station1    0\n",
       "Station2    0\n",
       "dtype: int64"
      ]
     },
     "execution_count": 933,
     "metadata": {},
     "output_type": "execute_result"
    }
   ],
   "source": [
    "rain.isnull().sum() "
   ]
  },
  {
   "cell_type": "code",
   "execution_count": 934,
   "metadata": {
    "scrolled": false
   },
   "outputs": [
    {
     "data": {
      "text/plain": [
       "Flood_Date    56927\n",
       "Flood_Hour    56927\n",
       "Flood_X       56927\n",
       "Flood_Y       56927\n",
       "dtype: int64"
      ]
     },
     "execution_count": 934,
     "metadata": {},
     "output_type": "execute_result"
    }
   ],
   "source": [
    "floods.isnull().sum()"
   ]
  },
  {
   "cell_type": "code",
   "execution_count": 935,
   "metadata": {},
   "outputs": [
    {
     "data": {
      "text/plain": [
       "Tide_Data        0\n",
       "Tide_Hour       37\n",
       "Tide_Weight    492\n",
       "dtype: int64"
      ]
     },
     "execution_count": 935,
     "metadata": {},
     "output_type": "execute_result"
    }
   ],
   "source": [
    "tide.isnull().sum()"
   ]
  },
  {
   "cell_type": "code",
   "execution_count": 936,
   "metadata": {},
   "outputs": [],
   "source": [
    "#Drop NA's\n",
    "tide = tide.dropna()\n",
    "floods = floods.dropna()"
   ]
  },
  {
   "cell_type": "markdown",
   "metadata": {},
   "source": [
    "**Split Date into Month,Day,Year**"
   ]
  },
  {
   "cell_type": "code",
   "execution_count": 937,
   "metadata": {},
   "outputs": [],
   "source": [
    "floods['Month']=[int(d.split('/')[0]) for d in floods.Flood_Date]\n",
    "floods['Day']=[int(d.split('/')[1]) for d in floods.Flood_Date]\n",
    "floods['Year']=[int(d.split('/')[2]) for d in floods.Flood_Date]"
   ]
  },
  {
   "cell_type": "markdown",
   "metadata": {},
   "source": [
    "**Split Hour into Month,Day,Year**\n",
    "\n",
    "### in the rain dataframe, Hour is representing  with 24 hours format\n",
    "\n",
    "##### for that, we use convert function\n",
    "##### roundup the minute to nearest 10"
   ]
  },
  {
   "cell_type": "code",
   "execution_count": 938,
   "metadata": {},
   "outputs": [],
   "source": [
    "def hour(h,m):\n",
    "    if m=='PM':\n",
    "        return h+12\n",
    "    else:\n",
    "        return h\n",
    "\n",
    "floods['Hour']=[hour(int(d.split(':')[0]),d.split(' ')[1]) for d in floods.Flood_Hour]\n",
    "floods['Minute']=[round(int(d.split(':')[1]),-1) for d in floods.Flood_Hour]"
   ]
  },
  {
   "cell_type": "code",
   "execution_count": 939,
   "metadata": {},
   "outputs": [
    {
     "data": {
      "text/html": [
       "<div>\n",
       "<style scoped>\n",
       "    .dataframe tbody tr th:only-of-type {\n",
       "        vertical-align: middle;\n",
       "    }\n",
       "\n",
       "    .dataframe tbody tr th {\n",
       "        vertical-align: top;\n",
       "    }\n",
       "\n",
       "    .dataframe thead th {\n",
       "        text-align: right;\n",
       "    }\n",
       "</style>\n",
       "<table border=\"1\" class=\"dataframe\">\n",
       "  <thead>\n",
       "    <tr style=\"text-align: right;\">\n",
       "      <th></th>\n",
       "      <th>Flood_Date</th>\n",
       "      <th>Flood_Hour</th>\n",
       "      <th>Flood_X</th>\n",
       "      <th>Flood_Y</th>\n",
       "      <th>Month</th>\n",
       "      <th>Day</th>\n",
       "      <th>Year</th>\n",
       "      <th>Hour</th>\n",
       "      <th>Minute</th>\n",
       "    </tr>\n",
       "  </thead>\n",
       "  <tbody>\n",
       "    <tr>\n",
       "      <th>0</th>\n",
       "      <td>08/31/2011</td>\n",
       "      <td>10:37:00 PM</td>\n",
       "      <td>-9.116707</td>\n",
       "      <td>38.729970</td>\n",
       "      <td>8</td>\n",
       "      <td>31</td>\n",
       "      <td>2011</td>\n",
       "      <td>22</td>\n",
       "      <td>40</td>\n",
       "    </tr>\n",
       "    <tr>\n",
       "      <th>1</th>\n",
       "      <td>09/02/2011</td>\n",
       "      <td>02:30:00 PM</td>\n",
       "      <td>-9.117666</td>\n",
       "      <td>38.738819</td>\n",
       "      <td>9</td>\n",
       "      <td>2</td>\n",
       "      <td>2011</td>\n",
       "      <td>14</td>\n",
       "      <td>30</td>\n",
       "    </tr>\n",
       "    <tr>\n",
       "      <th>2</th>\n",
       "      <td>09/01/2011</td>\n",
       "      <td>05:42:00 PM</td>\n",
       "      <td>-9.097379</td>\n",
       "      <td>38.772947</td>\n",
       "      <td>9</td>\n",
       "      <td>1</td>\n",
       "      <td>2011</td>\n",
       "      <td>17</td>\n",
       "      <td>40</td>\n",
       "    </tr>\n",
       "    <tr>\n",
       "      <th>3</th>\n",
       "      <td>09/02/2011</td>\n",
       "      <td>01:35:00 PM</td>\n",
       "      <td>-9.154479</td>\n",
       "      <td>38.777199</td>\n",
       "      <td>9</td>\n",
       "      <td>2</td>\n",
       "      <td>2011</td>\n",
       "      <td>13</td>\n",
       "      <td>40</td>\n",
       "    </tr>\n",
       "    <tr>\n",
       "      <th>4</th>\n",
       "      <td>08/31/2011</td>\n",
       "      <td>11:08:00 PM</td>\n",
       "      <td>-9.126631</td>\n",
       "      <td>38.773116</td>\n",
       "      <td>8</td>\n",
       "      <td>31</td>\n",
       "      <td>2011</td>\n",
       "      <td>23</td>\n",
       "      <td>10</td>\n",
       "    </tr>\n",
       "  </tbody>\n",
       "</table>\n",
       "</div>"
      ],
      "text/plain": [
       "   Flood_Date   Flood_Hour   Flood_X    Flood_Y  Month  Day  Year  Hour  \\\n",
       "0  08/31/2011  10:37:00 PM -9.116707  38.729970      8   31  2011    22   \n",
       "1  09/02/2011  02:30:00 PM -9.117666  38.738819      9    2  2011    14   \n",
       "2  09/01/2011  05:42:00 PM -9.097379  38.772947      9    1  2011    17   \n",
       "3  09/02/2011  01:35:00 PM -9.154479  38.777199      9    2  2011    13   \n",
       "4  08/31/2011  11:08:00 PM -9.126631  38.773116      8   31  2011    23   \n",
       "\n",
       "   Minute  \n",
       "0      40  \n",
       "1      30  \n",
       "2      40  \n",
       "3      40  \n",
       "4      10  "
      ]
     },
     "execution_count": 939,
     "metadata": {},
     "output_type": "execute_result"
    }
   ],
   "source": [
    "flood_coor=floods\n",
    "floods.head()"
   ]
  },
  {
   "cell_type": "code",
   "execution_count": 940,
   "metadata": {},
   "outputs": [],
   "source": [
    "tide['Month']=[int(d.split('/')[0]) for d in tide.Tide_Data]\n",
    "tide['Day']=[int(d.split('/')[1]) for d in tide.Tide_Data]\n",
    "tide['Year']=[int(d.split('/')[2]) for d in tide.Tide_Data]"
   ]
  },
  {
   "cell_type": "code",
   "execution_count": 941,
   "metadata": {},
   "outputs": [
    {
     "data": {
      "text/html": [
       "<div>\n",
       "<style scoped>\n",
       "    .dataframe tbody tr th:only-of-type {\n",
       "        vertical-align: middle;\n",
       "    }\n",
       "\n",
       "    .dataframe tbody tr th {\n",
       "        vertical-align: top;\n",
       "    }\n",
       "\n",
       "    .dataframe thead th {\n",
       "        text-align: right;\n",
       "    }\n",
       "</style>\n",
       "<table border=\"1\" class=\"dataframe\">\n",
       "  <thead>\n",
       "    <tr style=\"text-align: right;\">\n",
       "      <th></th>\n",
       "      <th>Tide_Data</th>\n",
       "      <th>Tide_Hour</th>\n",
       "      <th>Tide_Weight</th>\n",
       "      <th>Month</th>\n",
       "      <th>Day</th>\n",
       "      <th>Year</th>\n",
       "    </tr>\n",
       "  </thead>\n",
       "  <tbody>\n",
       "    <tr>\n",
       "      <th>0</th>\n",
       "      <td>08/31/2011</td>\n",
       "      <td>04:29:00 AM</td>\n",
       "      <td>4.04</td>\n",
       "      <td>8</td>\n",
       "      <td>31</td>\n",
       "      <td>2011</td>\n",
       "    </tr>\n",
       "    <tr>\n",
       "      <th>1</th>\n",
       "      <td>08/31/2011</td>\n",
       "      <td>10:12:00 AM</td>\n",
       "      <td>0.31</td>\n",
       "      <td>8</td>\n",
       "      <td>31</td>\n",
       "      <td>2011</td>\n",
       "    </tr>\n",
       "    <tr>\n",
       "      <th>2</th>\n",
       "      <td>08/31/2011</td>\n",
       "      <td>04:49:00 PM</td>\n",
       "      <td>4.22</td>\n",
       "      <td>8</td>\n",
       "      <td>31</td>\n",
       "      <td>2011</td>\n",
       "    </tr>\n",
       "    <tr>\n",
       "      <th>3</th>\n",
       "      <td>08/31/2011</td>\n",
       "      <td>10:38:00 PM</td>\n",
       "      <td>0.33</td>\n",
       "      <td>8</td>\n",
       "      <td>31</td>\n",
       "      <td>2011</td>\n",
       "    </tr>\n",
       "    <tr>\n",
       "      <th>4</th>\n",
       "      <td>09/01/2011</td>\n",
       "      <td>05:11:00 AM</td>\n",
       "      <td>3.99</td>\n",
       "      <td>9</td>\n",
       "      <td>1</td>\n",
       "      <td>2011</td>\n",
       "    </tr>\n",
       "  </tbody>\n",
       "</table>\n",
       "</div>"
      ],
      "text/plain": [
       "    Tide_Data    Tide_Hour  Tide_Weight  Month  Day  Year\n",
       "0  08/31/2011  04:29:00 AM         4.04      8   31  2011\n",
       "1  08/31/2011  10:12:00 AM         0.31      8   31  2011\n",
       "2  08/31/2011  04:49:00 PM         4.22      8   31  2011\n",
       "3  08/31/2011  10:38:00 PM         0.33      8   31  2011\n",
       "4  09/01/2011  05:11:00 AM         3.99      9    1  2011"
      ]
     },
     "execution_count": 941,
     "metadata": {},
     "output_type": "execute_result"
    }
   ],
   "source": [
    "tide_coor=tide\n",
    "tide.head()"
   ]
  },
  {
   "cell_type": "code",
   "execution_count": 942,
   "metadata": {},
   "outputs": [],
   "source": [
    "tide['Hour']=[hour(int(d.split(':')[0]),d.split(' ')[1]) for d in tide.Tide_Hour]\n",
    "tide['Minute']=[round(int(d.split(':')[1]),-1) for d in tide.Tide_Hour]"
   ]
  },
  {
   "cell_type": "code",
   "execution_count": 943,
   "metadata": {},
   "outputs": [
    {
     "data": {
      "text/html": [
       "<div>\n",
       "<style scoped>\n",
       "    .dataframe tbody tr th:only-of-type {\n",
       "        vertical-align: middle;\n",
       "    }\n",
       "\n",
       "    .dataframe tbody tr th {\n",
       "        vertical-align: top;\n",
       "    }\n",
       "\n",
       "    .dataframe thead th {\n",
       "        text-align: right;\n",
       "    }\n",
       "</style>\n",
       "<table border=\"1\" class=\"dataframe\">\n",
       "  <thead>\n",
       "    <tr style=\"text-align: right;\">\n",
       "      <th></th>\n",
       "      <th>Tide_Data</th>\n",
       "      <th>Tide_Hour</th>\n",
       "      <th>Tide_Weight</th>\n",
       "      <th>Month</th>\n",
       "      <th>Day</th>\n",
       "      <th>Year</th>\n",
       "      <th>Hour</th>\n",
       "      <th>Minute</th>\n",
       "    </tr>\n",
       "  </thead>\n",
       "  <tbody>\n",
       "    <tr>\n",
       "      <th>0</th>\n",
       "      <td>08/31/2011</td>\n",
       "      <td>04:29:00 AM</td>\n",
       "      <td>4.04</td>\n",
       "      <td>8</td>\n",
       "      <td>31</td>\n",
       "      <td>2011</td>\n",
       "      <td>4</td>\n",
       "      <td>30</td>\n",
       "    </tr>\n",
       "    <tr>\n",
       "      <th>1</th>\n",
       "      <td>08/31/2011</td>\n",
       "      <td>10:12:00 AM</td>\n",
       "      <td>0.31</td>\n",
       "      <td>8</td>\n",
       "      <td>31</td>\n",
       "      <td>2011</td>\n",
       "      <td>10</td>\n",
       "      <td>10</td>\n",
       "    </tr>\n",
       "    <tr>\n",
       "      <th>2</th>\n",
       "      <td>08/31/2011</td>\n",
       "      <td>04:49:00 PM</td>\n",
       "      <td>4.22</td>\n",
       "      <td>8</td>\n",
       "      <td>31</td>\n",
       "      <td>2011</td>\n",
       "      <td>16</td>\n",
       "      <td>50</td>\n",
       "    </tr>\n",
       "    <tr>\n",
       "      <th>3</th>\n",
       "      <td>08/31/2011</td>\n",
       "      <td>10:38:00 PM</td>\n",
       "      <td>0.33</td>\n",
       "      <td>8</td>\n",
       "      <td>31</td>\n",
       "      <td>2011</td>\n",
       "      <td>22</td>\n",
       "      <td>40</td>\n",
       "    </tr>\n",
       "    <tr>\n",
       "      <th>4</th>\n",
       "      <td>09/01/2011</td>\n",
       "      <td>05:11:00 AM</td>\n",
       "      <td>3.99</td>\n",
       "      <td>9</td>\n",
       "      <td>1</td>\n",
       "      <td>2011</td>\n",
       "      <td>5</td>\n",
       "      <td>10</td>\n",
       "    </tr>\n",
       "  </tbody>\n",
       "</table>\n",
       "</div>"
      ],
      "text/plain": [
       "    Tide_Data    Tide_Hour  Tide_Weight  Month  Day  Year  Hour  Minute\n",
       "0  08/31/2011  04:29:00 AM         4.04      8   31  2011     4      30\n",
       "1  08/31/2011  10:12:00 AM         0.31      8   31  2011    10      10\n",
       "2  08/31/2011  04:49:00 PM         4.22      8   31  2011    16      50\n",
       "3  08/31/2011  10:38:00 PM         0.33      8   31  2011    22      40\n",
       "4  09/01/2011  05:11:00 AM         3.99      9    1  2011     5      10"
      ]
     },
     "execution_count": 943,
     "metadata": {},
     "output_type": "execute_result"
    }
   ],
   "source": [
    "tide.head()"
   ]
  },
  {
   "cell_type": "markdown",
   "metadata": {},
   "source": [
    "# Outer join dataframes\n",
    "\n",
    "**for that, first we check the types of features in datasets are same**"
   ]
  },
  {
   "cell_type": "code",
   "execution_count": 944,
   "metadata": {},
   "outputs": [
    {
     "data": {
      "text/plain": [
       "Year          int64\n",
       "Month         int64\n",
       "Day           int64\n",
       "Hour          int64\n",
       "Minute        int64\n",
       "Station1    float64\n",
       "Station2    float64\n",
       "dtype: object"
      ]
     },
     "execution_count": 944,
     "metadata": {},
     "output_type": "execute_result"
    }
   ],
   "source": [
    "rain.dtypes"
   ]
  },
  {
   "cell_type": "code",
   "execution_count": 846,
   "metadata": {},
   "outputs": [
    {
     "data": {
      "text/plain": [
       "Tide_Data                object\n",
       "Tide_Hour                object\n",
       "Tide_ Weigh (meters)    float64\n",
       "Month                     int64\n",
       "Day                       int64\n",
       "Year                      int64\n",
       "Hour                      int64\n",
       "Minute                    int64\n",
       "dtype: object"
      ]
     },
     "execution_count": 846,
     "metadata": {},
     "output_type": "execute_result"
    }
   ],
   "source": [
    "tide.dtypes"
   ]
  },
  {
   "cell_type": "code",
   "execution_count": 847,
   "metadata": {},
   "outputs": [
    {
     "data": {
      "text/plain": [
       "Flood_Date     object\n",
       "Flood_Hour     object\n",
       "Flood_X       float64\n",
       "Flood_Y       float64\n",
       "Month           int64\n",
       "Day             int64\n",
       "Year            int64\n",
       "Hour            int64\n",
       "Minute          int64\n",
       "dtype: object"
      ]
     },
     "execution_count": 847,
     "metadata": {},
     "output_type": "execute_result"
    }
   ],
   "source": [
    "floods.dtypes"
   ]
  },
  {
   "cell_type": "code",
   "execution_count": null,
   "metadata": {},
   "outputs": [],
   "source": []
  },
  {
   "cell_type": "markdown",
   "metadata": {},
   "source": [
    "## left outer join floods and rain on Month,Day,Year,Hour"
   ]
  },
  {
   "cell_type": "code",
   "execution_count": 945,
   "metadata": {},
   "outputs": [],
   "source": [
    "floods = pd.merge(floods,rain, on=['Month','Day','Year','Hour'], how='left')"
   ]
  },
  {
   "cell_type": "code",
   "execution_count": 946,
   "metadata": {},
   "outputs": [
    {
     "data": {
      "text/html": [
       "<div>\n",
       "<style scoped>\n",
       "    .dataframe tbody tr th:only-of-type {\n",
       "        vertical-align: middle;\n",
       "    }\n",
       "\n",
       "    .dataframe tbody tr th {\n",
       "        vertical-align: top;\n",
       "    }\n",
       "\n",
       "    .dataframe thead th {\n",
       "        text-align: right;\n",
       "    }\n",
       "</style>\n",
       "<table border=\"1\" class=\"dataframe\">\n",
       "  <thead>\n",
       "    <tr style=\"text-align: right;\">\n",
       "      <th></th>\n",
       "      <th>Flood_Date</th>\n",
       "      <th>Flood_Hour</th>\n",
       "      <th>Flood_X</th>\n",
       "      <th>Flood_Y</th>\n",
       "      <th>Month</th>\n",
       "      <th>Day</th>\n",
       "      <th>Year</th>\n",
       "      <th>Hour</th>\n",
       "      <th>Minute_x</th>\n",
       "      <th>Minute_y</th>\n",
       "      <th>Station1</th>\n",
       "      <th>Station2</th>\n",
       "    </tr>\n",
       "  </thead>\n",
       "  <tbody>\n",
       "    <tr>\n",
       "      <th>0</th>\n",
       "      <td>08/31/2011</td>\n",
       "      <td>10:37:00 PM</td>\n",
       "      <td>-9.116707</td>\n",
       "      <td>38.72997</td>\n",
       "      <td>8</td>\n",
       "      <td>31</td>\n",
       "      <td>2011</td>\n",
       "      <td>22</td>\n",
       "      <td>40</td>\n",
       "      <td>0.0</td>\n",
       "      <td>0.0</td>\n",
       "      <td>0.0</td>\n",
       "    </tr>\n",
       "    <tr>\n",
       "      <th>1</th>\n",
       "      <td>08/31/2011</td>\n",
       "      <td>10:37:00 PM</td>\n",
       "      <td>-9.116707</td>\n",
       "      <td>38.72997</td>\n",
       "      <td>8</td>\n",
       "      <td>31</td>\n",
       "      <td>2011</td>\n",
       "      <td>22</td>\n",
       "      <td>40</td>\n",
       "      <td>10.0</td>\n",
       "      <td>0.0</td>\n",
       "      <td>0.0</td>\n",
       "    </tr>\n",
       "    <tr>\n",
       "      <th>2</th>\n",
       "      <td>08/31/2011</td>\n",
       "      <td>10:37:00 PM</td>\n",
       "      <td>-9.116707</td>\n",
       "      <td>38.72997</td>\n",
       "      <td>8</td>\n",
       "      <td>31</td>\n",
       "      <td>2011</td>\n",
       "      <td>22</td>\n",
       "      <td>40</td>\n",
       "      <td>20.0</td>\n",
       "      <td>0.0</td>\n",
       "      <td>0.0</td>\n",
       "    </tr>\n",
       "    <tr>\n",
       "      <th>3</th>\n",
       "      <td>08/31/2011</td>\n",
       "      <td>10:37:00 PM</td>\n",
       "      <td>-9.116707</td>\n",
       "      <td>38.72997</td>\n",
       "      <td>8</td>\n",
       "      <td>31</td>\n",
       "      <td>2011</td>\n",
       "      <td>22</td>\n",
       "      <td>40</td>\n",
       "      <td>30.0</td>\n",
       "      <td>0.0</td>\n",
       "      <td>0.0</td>\n",
       "    </tr>\n",
       "    <tr>\n",
       "      <th>4</th>\n",
       "      <td>08/31/2011</td>\n",
       "      <td>10:37:00 PM</td>\n",
       "      <td>-9.116707</td>\n",
       "      <td>38.72997</td>\n",
       "      <td>8</td>\n",
       "      <td>31</td>\n",
       "      <td>2011</td>\n",
       "      <td>22</td>\n",
       "      <td>40</td>\n",
       "      <td>40.0</td>\n",
       "      <td>0.0</td>\n",
       "      <td>0.0</td>\n",
       "    </tr>\n",
       "  </tbody>\n",
       "</table>\n",
       "</div>"
      ],
      "text/plain": [
       "   Flood_Date   Flood_Hour   Flood_X   Flood_Y  Month  Day  Year  Hour  \\\n",
       "0  08/31/2011  10:37:00 PM -9.116707  38.72997      8   31  2011    22   \n",
       "1  08/31/2011  10:37:00 PM -9.116707  38.72997      8   31  2011    22   \n",
       "2  08/31/2011  10:37:00 PM -9.116707  38.72997      8   31  2011    22   \n",
       "3  08/31/2011  10:37:00 PM -9.116707  38.72997      8   31  2011    22   \n",
       "4  08/31/2011  10:37:00 PM -9.116707  38.72997      8   31  2011    22   \n",
       "\n",
       "   Minute_x  Minute_y  Station1  Station2  \n",
       "0        40       0.0       0.0       0.0  \n",
       "1        40      10.0       0.0       0.0  \n",
       "2        40      20.0       0.0       0.0  \n",
       "3        40      30.0       0.0       0.0  \n",
       "4        40      40.0       0.0       0.0  "
      ]
     },
     "execution_count": 946,
     "metadata": {},
     "output_type": "execute_result"
    }
   ],
   "source": [
    "floods.head()"
   ]
  },
  {
   "cell_type": "markdown",
   "metadata": {},
   "source": [
    "## left outer join floods and tide on Month,Day,Year,Hour,Minute"
   ]
  },
  {
   "cell_type": "code",
   "execution_count": 947,
   "metadata": {},
   "outputs": [],
   "source": [
    "tide = pd.merge(tide,rain, on=['Month','Day','Year','Hour'], how='left')"
   ]
  },
  {
   "cell_type": "code",
   "execution_count": 948,
   "metadata": {},
   "outputs": [],
   "source": [
    "floods=floods.drop(['Flood_Date','Flood_Hour'], axis=1)\n",
    "tide=tide.drop(['Tide_Data','Tide_Hour'], axis=1)\n"
   ]
  },
  {
   "cell_type": "code",
   "execution_count": 949,
   "metadata": {},
   "outputs": [
    {
     "data": {
      "text/html": [
       "<div>\n",
       "<style scoped>\n",
       "    .dataframe tbody tr th:only-of-type {\n",
       "        vertical-align: middle;\n",
       "    }\n",
       "\n",
       "    .dataframe tbody tr th {\n",
       "        vertical-align: top;\n",
       "    }\n",
       "\n",
       "    .dataframe thead th {\n",
       "        text-align: right;\n",
       "    }\n",
       "</style>\n",
       "<table border=\"1\" class=\"dataframe\">\n",
       "  <thead>\n",
       "    <tr style=\"text-align: right;\">\n",
       "      <th></th>\n",
       "      <th>Flood_X</th>\n",
       "      <th>Flood_Y</th>\n",
       "      <th>Month</th>\n",
       "      <th>Day</th>\n",
       "      <th>Year</th>\n",
       "      <th>Hour</th>\n",
       "      <th>Minute_x</th>\n",
       "      <th>Minute_y</th>\n",
       "      <th>Station1</th>\n",
       "      <th>Station2</th>\n",
       "    </tr>\n",
       "  </thead>\n",
       "  <tbody>\n",
       "    <tr>\n",
       "      <th>0</th>\n",
       "      <td>-9.116707</td>\n",
       "      <td>38.72997</td>\n",
       "      <td>8</td>\n",
       "      <td>31</td>\n",
       "      <td>2011</td>\n",
       "      <td>22</td>\n",
       "      <td>40</td>\n",
       "      <td>0.0</td>\n",
       "      <td>0.0</td>\n",
       "      <td>0.0</td>\n",
       "    </tr>\n",
       "    <tr>\n",
       "      <th>1</th>\n",
       "      <td>-9.116707</td>\n",
       "      <td>38.72997</td>\n",
       "      <td>8</td>\n",
       "      <td>31</td>\n",
       "      <td>2011</td>\n",
       "      <td>22</td>\n",
       "      <td>40</td>\n",
       "      <td>10.0</td>\n",
       "      <td>0.0</td>\n",
       "      <td>0.0</td>\n",
       "    </tr>\n",
       "    <tr>\n",
       "      <th>2</th>\n",
       "      <td>-9.116707</td>\n",
       "      <td>38.72997</td>\n",
       "      <td>8</td>\n",
       "      <td>31</td>\n",
       "      <td>2011</td>\n",
       "      <td>22</td>\n",
       "      <td>40</td>\n",
       "      <td>20.0</td>\n",
       "      <td>0.0</td>\n",
       "      <td>0.0</td>\n",
       "    </tr>\n",
       "    <tr>\n",
       "      <th>3</th>\n",
       "      <td>-9.116707</td>\n",
       "      <td>38.72997</td>\n",
       "      <td>8</td>\n",
       "      <td>31</td>\n",
       "      <td>2011</td>\n",
       "      <td>22</td>\n",
       "      <td>40</td>\n",
       "      <td>30.0</td>\n",
       "      <td>0.0</td>\n",
       "      <td>0.0</td>\n",
       "    </tr>\n",
       "    <tr>\n",
       "      <th>4</th>\n",
       "      <td>-9.116707</td>\n",
       "      <td>38.72997</td>\n",
       "      <td>8</td>\n",
       "      <td>31</td>\n",
       "      <td>2011</td>\n",
       "      <td>22</td>\n",
       "      <td>40</td>\n",
       "      <td>40.0</td>\n",
       "      <td>0.0</td>\n",
       "      <td>0.0</td>\n",
       "    </tr>\n",
       "  </tbody>\n",
       "</table>\n",
       "</div>"
      ],
      "text/plain": [
       "    Flood_X   Flood_Y  Month  Day  Year  Hour  Minute_x  Minute_y  Station1  \\\n",
       "0 -9.116707  38.72997      8   31  2011    22        40       0.0       0.0   \n",
       "1 -9.116707  38.72997      8   31  2011    22        40      10.0       0.0   \n",
       "2 -9.116707  38.72997      8   31  2011    22        40      20.0       0.0   \n",
       "3 -9.116707  38.72997      8   31  2011    22        40      30.0       0.0   \n",
       "4 -9.116707  38.72997      8   31  2011    22        40      40.0       0.0   \n",
       "\n",
       "   Station2  \n",
       "0       0.0  \n",
       "1       0.0  \n",
       "2       0.0  \n",
       "3       0.0  \n",
       "4       0.0  "
      ]
     },
     "execution_count": 949,
     "metadata": {},
     "output_type": "execute_result"
    }
   ],
   "source": [
    "floods.head()"
   ]
  },
  {
   "cell_type": "code",
   "execution_count": 950,
   "metadata": {},
   "outputs": [
    {
     "data": {
      "text/html": [
       "<div>\n",
       "<style scoped>\n",
       "    .dataframe tbody tr th:only-of-type {\n",
       "        vertical-align: middle;\n",
       "    }\n",
       "\n",
       "    .dataframe tbody tr th {\n",
       "        vertical-align: top;\n",
       "    }\n",
       "\n",
       "    .dataframe thead th {\n",
       "        text-align: right;\n",
       "    }\n",
       "</style>\n",
       "<table border=\"1\" class=\"dataframe\">\n",
       "  <thead>\n",
       "    <tr style=\"text-align: right;\">\n",
       "      <th></th>\n",
       "      <th>Tide_Weight</th>\n",
       "      <th>Month</th>\n",
       "      <th>Day</th>\n",
       "      <th>Year</th>\n",
       "      <th>Hour</th>\n",
       "      <th>Minute_x</th>\n",
       "      <th>Minute_y</th>\n",
       "      <th>Station1</th>\n",
       "      <th>Station2</th>\n",
       "    </tr>\n",
       "  </thead>\n",
       "  <tbody>\n",
       "    <tr>\n",
       "      <th>0</th>\n",
       "      <td>4.04</td>\n",
       "      <td>8</td>\n",
       "      <td>31</td>\n",
       "      <td>2011</td>\n",
       "      <td>4</td>\n",
       "      <td>30</td>\n",
       "      <td>0.0</td>\n",
       "      <td>0.0</td>\n",
       "      <td>0.0</td>\n",
       "    </tr>\n",
       "    <tr>\n",
       "      <th>1</th>\n",
       "      <td>4.04</td>\n",
       "      <td>8</td>\n",
       "      <td>31</td>\n",
       "      <td>2011</td>\n",
       "      <td>4</td>\n",
       "      <td>30</td>\n",
       "      <td>10.0</td>\n",
       "      <td>0.0</td>\n",
       "      <td>0.0</td>\n",
       "    </tr>\n",
       "    <tr>\n",
       "      <th>2</th>\n",
       "      <td>4.04</td>\n",
       "      <td>8</td>\n",
       "      <td>31</td>\n",
       "      <td>2011</td>\n",
       "      <td>4</td>\n",
       "      <td>30</td>\n",
       "      <td>20.0</td>\n",
       "      <td>0.0</td>\n",
       "      <td>0.0</td>\n",
       "    </tr>\n",
       "    <tr>\n",
       "      <th>3</th>\n",
       "      <td>4.04</td>\n",
       "      <td>8</td>\n",
       "      <td>31</td>\n",
       "      <td>2011</td>\n",
       "      <td>4</td>\n",
       "      <td>30</td>\n",
       "      <td>30.0</td>\n",
       "      <td>0.0</td>\n",
       "      <td>0.0</td>\n",
       "    </tr>\n",
       "    <tr>\n",
       "      <th>4</th>\n",
       "      <td>4.04</td>\n",
       "      <td>8</td>\n",
       "      <td>31</td>\n",
       "      <td>2011</td>\n",
       "      <td>4</td>\n",
       "      <td>30</td>\n",
       "      <td>40.0</td>\n",
       "      <td>0.0</td>\n",
       "      <td>0.0</td>\n",
       "    </tr>\n",
       "  </tbody>\n",
       "</table>\n",
       "</div>"
      ],
      "text/plain": [
       "   Tide_Weight  Month  Day  Year  Hour  Minute_x  Minute_y  Station1  Station2\n",
       "0         4.04      8   31  2011     4        30       0.0       0.0       0.0\n",
       "1         4.04      8   31  2011     4        30      10.0       0.0       0.0\n",
       "2         4.04      8   31  2011     4        30      20.0       0.0       0.0\n",
       "3         4.04      8   31  2011     4        30      30.0       0.0       0.0\n",
       "4         4.04      8   31  2011     4        30      40.0       0.0       0.0"
      ]
     },
     "execution_count": 950,
     "metadata": {},
     "output_type": "execute_result"
    }
   ],
   "source": [
    "tide.head()"
   ]
  },
  {
   "cell_type": "markdown",
   "metadata": {},
   "source": [
    "# get the right polygon according to longitude and latitude\n",
    "\n",
    "### for that we use shapely libarary"
   ]
  },
  {
   "cell_type": "code",
   "execution_count": 951,
   "metadata": {},
   "outputs": [],
   "source": [
    "from shapely.geometry import Point, Polygon"
   ]
  },
  {
   "cell_type": "markdown",
   "metadata": {},
   "source": [
    "## Coords of the 10 polygons"
   ]
  },
  {
   "cell_type": "code",
   "execution_count": 952,
   "metadata": {},
   "outputs": [],
   "source": [
    "coords1=[(38.70860869880051,-9.123913306323857),(38.701642770700474,-9.177814978687138),(38.722806373588625,-9.176441687671513),(38.737804626069824,-9.10159732731995)]\n",
    "coords2=[(38.69167335183297,-9.216156005859375),(38.700571029222125,-9.177814978687138),(38.723180567011006,-9.176386127038995),(38.7162692338634,-9.221676950238248)]\n",
    "coords3=[(38.73807242339019,-9.10159732731995),(38.72837591823979,-9.152641296386719),(38.75397698192128,-9.157675036951105),(38.760831525277545,-9.092670935718388)]\n",
    "coords4=[(38.76672093432558,-9.16030551823792),(38.728431087266266,-9.152409094898076),(38.72280637358865,-9.179188269702763),(38.76324088773273,-9.18948795231995)]\n",
    "coords5=[(38.742089262697505,-9.184681433765263),(38.735662211358296,-9.2306866827887),(38.716377587215895,-9.222790259448857),(38.72280637358865,-9.179188269702763)]\n",
    "coords6=[(38.7991039942624,-9.090954321948857),(38.76136694618673,-9.093700903980107),(38.75788663846876,-9.126659888355107),(38.79736478220663,-9.129921454517216)]\n",
    "coords7=[(38.798836425939534,-9.102283972827763),(38.79696341955079,-9.164425391284794),(38.79749856925627,-9.129749793140263),(38.75815436047288,-9.126144904224248)]\n",
    "coords8=[(38.79455519614865,-9.19875766667542),(38.796963419550735,-9.164425391284794),(38.76739015459558,-9.15979053410706),(38.76277240695986,-9.189230460254521)]\n",
    "coords9=[(38.73593001671167,-9.2306866827887),(38.74256966613671,-9.1845703125),(38.773906830650795,-9.19266617753317),(38.76348101869126,-9.240587482019464)]\n",
    "coords10=[(38.78759764924314,-9.243732947437138),(38.79428761074775,-9.19875766667542),(38.773881265449766,-9.192320365039677),(38.76364244023284,-9.240814704028935)]"
   ]
  },
  {
   "cell_type": "markdown",
   "metadata": {},
   "source": [
    "## Create polygons"
   ]
  },
  {
   "cell_type": "code",
   "execution_count": 953,
   "metadata": {},
   "outputs": [],
   "source": [
    "poly1=Polygon(coords1)\n",
    "poly2=Polygon(coords2)\n",
    "poly3=Polygon(coords3)\n",
    "poly4=Polygon(coords4)\n",
    "poly5=Polygon(coords5)\n",
    "poly6=Polygon(coords6)\n",
    "poly7=Polygon(coords7)\n",
    "poly8=Polygon(coords8)\n",
    "poly9=Polygon(coords9)\n",
    "poly10=Polygon(coords10)\n",
    "\n",
    "polygons=[poly1,poly2,poly3,poly4,poly5,poly6,poly7,poly8,poly9,poly10]"
   ]
  },
  {
   "cell_type": "markdown",
   "metadata": {},
   "source": [
    "## function for get the right polygon"
   ]
  },
  {
   "cell_type": "code",
   "execution_count": 954,
   "metadata": {},
   "outputs": [],
   "source": [
    "def getpoly(y,x):\n",
    "    p=Point(y,x)\n",
    "    for i in range(len(polygons)):\n",
    "        if p.within(polygons[i])==True:\n",
    "            return int(i+1) \n",
    "        \n",
    "        "
   ]
  },
  {
   "cell_type": "markdown",
   "metadata": {},
   "source": [
    "## create Polygon feature using getpoly function"
   ]
  },
  {
   "cell_type": "code",
   "execution_count": 955,
   "metadata": {},
   "outputs": [],
   "source": [
    "floods['Polygon']=floods.apply(lambda x: getpoly(x.Flood_Y,x.Flood_X),axis=1)"
   ]
  },
  {
   "cell_type": "code",
   "execution_count": 956,
   "metadata": {},
   "outputs": [
    {
     "data": {
      "text/plain": [
       "Flood_X        0\n",
       "Flood_Y        0\n",
       "Month          0\n",
       "Day            0\n",
       "Year           0\n",
       "Hour           0\n",
       "Minute_x       0\n",
       "Minute_y     392\n",
       "Station1     392\n",
       "Station2     392\n",
       "Polygon     2052\n",
       "dtype: int64"
      ]
     },
     "execution_count": 956,
     "metadata": {},
     "output_type": "execute_result"
    }
   ],
   "source": [
    "floods.isnull().sum()"
   ]
  },
  {
   "cell_type": "code",
   "execution_count": null,
   "metadata": {},
   "outputs": [],
   "source": []
  },
  {
   "cell_type": "code",
   "execution_count": null,
   "metadata": {},
   "outputs": [],
   "source": []
  },
  {
   "cell_type": "markdown",
   "metadata": {},
   "source": [
    "## Drop NA's"
   ]
  },
  {
   "cell_type": "code",
   "execution_count": 957,
   "metadata": {},
   "outputs": [],
   "source": [
    "floods = floods.dropna()"
   ]
  },
  {
   "cell_type": "markdown",
   "metadata": {},
   "source": []
  },
  {
   "cell_type": "code",
   "execution_count": null,
   "metadata": {},
   "outputs": [],
   "source": []
  },
  {
   "cell_type": "markdown",
   "metadata": {},
   "source": [
    "## Plots of Satation precitation values"
   ]
  },
  {
   "cell_type": "code",
   "execution_count": 959,
   "metadata": {},
   "outputs": [
    {
     "data": {
      "text/plain": [
       "<matplotlib.axes._subplots.AxesSubplot at 0x7f7bd84baac8>"
      ]
     },
     "execution_count": 959,
     "metadata": {},
     "output_type": "execute_result"
    },
    {
     "data": {
      "image/png": "[encoded data removed]",
      "text/plain": [
       "<Figure size 432x288 with 1 Axes>"
      ]
     },
     "metadata": {},
     "output_type": "display_data"
    }
   ],
   "source": [
    "import seaborn as sns\n",
    "\n",
    "sns.set_style('darkgrid')\n",
    "sns.distplot(floods['Station1'])"
   ]
  },
  {
   "cell_type": "code",
   "execution_count": 960,
   "metadata": {},
   "outputs": [
    {
     "data": {
      "text/plain": [
       "<matplotlib.axes._subplots.AxesSubplot at 0x7f7bd05cad30>"
      ]
     },
     "execution_count": 960,
     "metadata": {},
     "output_type": "execute_result"
    },
    {
     "data": {
      "image/png": "[encoded data removed]",
      "text/plain": [
       "<Figure size 432x288 with 1 Axes>"
      ]
     },
     "metadata": {},
     "output_type": "display_data"
    }
   ],
   "source": [
    "sns.distplot(floods['Station2'])"
   ]
  },
  {
   "cell_type": "markdown",
   "metadata": {},
   "source": [
    "### Negative rain(fall) occurs when a particular area experiences more atmospheric evaporation than water downpour over a period of time. The phenomenon usually occurs when temperatures are unusually high, and precipitation is unusually low for the season."
   ]
  },
  {
   "cell_type": "code",
   "execution_count": 961,
   "metadata": {},
   "outputs": [],
   "source": [
    "def neg_pos_rain(x):\n",
    "    if x<0:\n",
    "        return 0\n",
    "    else:\n",
    "        return 1"
   ]
  },
  {
   "cell_type": "markdown",
   "metadata": {},
   "source": [
    "### we define a function for select negative rain or positive rain according to precipitation\n",
    "\n",
    "#### with this function we can genarate new feature "
   ]
  },
  {
   "cell_type": "code",
   "execution_count": 962,
   "metadata": {},
   "outputs": [],
   "source": [
    "floods['Neg_Pos_Rain_S1']=floods.apply(lambda x: neg_pos_rain(x.Station1),axis=1)\n",
    "floods['Neg_Pos_Rain_S2']=floods.apply(lambda x: neg_pos_rain(x.Station2),axis=1)"
   ]
  },
  {
   "cell_type": "markdown",
   "metadata": {},
   "source": [
    "## create new feature -> Avarage precipitation "
   ]
  },
  {
   "cell_type": "code",
   "execution_count": 963,
   "metadata": {},
   "outputs": [],
   "source": [
    "floods['Avg_precipitation']=floods.apply(lambda x: (float(x.Station1+x.Station2)/2),axis=1)"
   ]
  },
  {
   "cell_type": "code",
   "execution_count": 964,
   "metadata": {},
   "outputs": [
    {
     "data": {
      "text/html": [
       "<div>\n",
       "<style scoped>\n",
       "    .dataframe tbody tr th:only-of-type {\n",
       "        vertical-align: middle;\n",
       "    }\n",
       "\n",
       "    .dataframe tbody tr th {\n",
       "        vertical-align: top;\n",
       "    }\n",
       "\n",
       "    .dataframe thead th {\n",
       "        text-align: right;\n",
       "    }\n",
       "</style>\n",
       "<table border=\"1\" class=\"dataframe\">\n",
       "  <thead>\n",
       "    <tr style=\"text-align: right;\">\n",
       "      <th></th>\n",
       "      <th>Flood_X</th>\n",
       "      <th>Flood_Y</th>\n",
       "      <th>Month</th>\n",
       "      <th>Day</th>\n",
       "      <th>Year</th>\n",
       "      <th>Hour</th>\n",
       "      <th>Minute_x</th>\n",
       "      <th>Minute_y</th>\n",
       "      <th>Station1</th>\n",
       "      <th>Station2</th>\n",
       "      <th>Polygon</th>\n",
       "      <th>Neg_Pos_Rain_S1</th>\n",
       "      <th>Neg_Pos_Rain_S2</th>\n",
       "      <th>Avg_precipitation</th>\n",
       "    </tr>\n",
       "  </thead>\n",
       "  <tbody>\n",
       "    <tr>\n",
       "      <th>0</th>\n",
       "      <td>-9.116707</td>\n",
       "      <td>38.72997</td>\n",
       "      <td>8</td>\n",
       "      <td>31</td>\n",
       "      <td>2011</td>\n",
       "      <td>22</td>\n",
       "      <td>40</td>\n",
       "      <td>0.0</td>\n",
       "      <td>0.0</td>\n",
       "      <td>0.0</td>\n",
       "      <td>1.0</td>\n",
       "      <td>1</td>\n",
       "      <td>1</td>\n",
       "      <td>0.0</td>\n",
       "    </tr>\n",
       "    <tr>\n",
       "      <th>1</th>\n",
       "      <td>-9.116707</td>\n",
       "      <td>38.72997</td>\n",
       "      <td>8</td>\n",
       "      <td>31</td>\n",
       "      <td>2011</td>\n",
       "      <td>22</td>\n",
       "      <td>40</td>\n",
       "      <td>10.0</td>\n",
       "      <td>0.0</td>\n",
       "      <td>0.0</td>\n",
       "      <td>1.0</td>\n",
       "      <td>1</td>\n",
       "      <td>1</td>\n",
       "      <td>0.0</td>\n",
       "    </tr>\n",
       "    <tr>\n",
       "      <th>2</th>\n",
       "      <td>-9.116707</td>\n",
       "      <td>38.72997</td>\n",
       "      <td>8</td>\n",
       "      <td>31</td>\n",
       "      <td>2011</td>\n",
       "      <td>22</td>\n",
       "      <td>40</td>\n",
       "      <td>20.0</td>\n",
       "      <td>0.0</td>\n",
       "      <td>0.0</td>\n",
       "      <td>1.0</td>\n",
       "      <td>1</td>\n",
       "      <td>1</td>\n",
       "      <td>0.0</td>\n",
       "    </tr>\n",
       "    <tr>\n",
       "      <th>3</th>\n",
       "      <td>-9.116707</td>\n",
       "      <td>38.72997</td>\n",
       "      <td>8</td>\n",
       "      <td>31</td>\n",
       "      <td>2011</td>\n",
       "      <td>22</td>\n",
       "      <td>40</td>\n",
       "      <td>30.0</td>\n",
       "      <td>0.0</td>\n",
       "      <td>0.0</td>\n",
       "      <td>1.0</td>\n",
       "      <td>1</td>\n",
       "      <td>1</td>\n",
       "      <td>0.0</td>\n",
       "    </tr>\n",
       "    <tr>\n",
       "      <th>4</th>\n",
       "      <td>-9.116707</td>\n",
       "      <td>38.72997</td>\n",
       "      <td>8</td>\n",
       "      <td>31</td>\n",
       "      <td>2011</td>\n",
       "      <td>22</td>\n",
       "      <td>40</td>\n",
       "      <td>40.0</td>\n",
       "      <td>0.0</td>\n",
       "      <td>0.0</td>\n",
       "      <td>1.0</td>\n",
       "      <td>1</td>\n",
       "      <td>1</td>\n",
       "      <td>0.0</td>\n",
       "    </tr>\n",
       "  </tbody>\n",
       "</table>\n",
       "</div>"
      ],
      "text/plain": [
       "    Flood_X   Flood_Y  Month  Day  Year  Hour  Minute_x  Minute_y  Station1  \\\n",
       "0 -9.116707  38.72997      8   31  2011    22        40       0.0       0.0   \n",
       "1 -9.116707  38.72997      8   31  2011    22        40      10.0       0.0   \n",
       "2 -9.116707  38.72997      8   31  2011    22        40      20.0       0.0   \n",
       "3 -9.116707  38.72997      8   31  2011    22        40      30.0       0.0   \n",
       "4 -9.116707  38.72997      8   31  2011    22        40      40.0       0.0   \n",
       "\n",
       "   Station2  Polygon  Neg_Pos_Rain_S1  Neg_Pos_Rain_S2  Avg_precipitation  \n",
       "0       0.0      1.0                1                1                0.0  \n",
       "1       0.0      1.0                1                1                0.0  \n",
       "2       0.0      1.0                1                1                0.0  \n",
       "3       0.0      1.0                1                1                0.0  \n",
       "4       0.0      1.0                1                1                0.0  "
      ]
     },
     "execution_count": 964,
     "metadata": {},
     "output_type": "execute_result"
    }
   ],
   "source": [
    "floods.head()"
   ]
  },
  {
   "cell_type": "code",
   "execution_count": 966,
   "metadata": {},
   "outputs": [
    {
     "data": {
      "text/html": [
       "<div>\n",
       "<style scoped>\n",
       "    .dataframe tbody tr th:only-of-type {\n",
       "        vertical-align: middle;\n",
       "    }\n",
       "\n",
       "    .dataframe tbody tr th {\n",
       "        vertical-align: top;\n",
       "    }\n",
       "\n",
       "    .dataframe thead th {\n",
       "        text-align: right;\n",
       "    }\n",
       "</style>\n",
       "<table border=\"1\" class=\"dataframe\">\n",
       "  <thead>\n",
       "    <tr style=\"text-align: right;\">\n",
       "      <th></th>\n",
       "      <th>Flood_X</th>\n",
       "      <th>Flood_Y</th>\n",
       "      <th>Month</th>\n",
       "      <th>Day</th>\n",
       "      <th>Year</th>\n",
       "      <th>Hour</th>\n",
       "      <th>Minute_x</th>\n",
       "      <th>Minute_y</th>\n",
       "      <th>Station1</th>\n",
       "      <th>Station2</th>\n",
       "      <th>Polygon</th>\n",
       "      <th>Neg_Pos_Rain_S1</th>\n",
       "      <th>Neg_Pos_Rain_S2</th>\n",
       "      <th>Avg_precipitation</th>\n",
       "    </tr>\n",
       "  </thead>\n",
       "  <tbody>\n",
       "    <tr>\n",
       "      <th>54</th>\n",
       "      <td>-9.166468</td>\n",
       "      <td>38.7231</td>\n",
       "      <td>8</td>\n",
       "      <td>31</td>\n",
       "      <td>2011</td>\n",
       "      <td>21</td>\n",
       "      <td>50</td>\n",
       "      <td>0.0</td>\n",
       "      <td>2.0</td>\n",
       "      <td>2.2</td>\n",
       "      <td>1.0</td>\n",
       "      <td>1</td>\n",
       "      <td>1</td>\n",
       "      <td>2.10</td>\n",
       "    </tr>\n",
       "    <tr>\n",
       "      <th>55</th>\n",
       "      <td>-9.166468</td>\n",
       "      <td>38.7231</td>\n",
       "      <td>8</td>\n",
       "      <td>31</td>\n",
       "      <td>2011</td>\n",
       "      <td>21</td>\n",
       "      <td>50</td>\n",
       "      <td>10.0</td>\n",
       "      <td>3.3</td>\n",
       "      <td>3.0</td>\n",
       "      <td>1.0</td>\n",
       "      <td>1</td>\n",
       "      <td>1</td>\n",
       "      <td>3.15</td>\n",
       "    </tr>\n",
       "    <tr>\n",
       "      <th>56</th>\n",
       "      <td>-9.166468</td>\n",
       "      <td>38.7231</td>\n",
       "      <td>8</td>\n",
       "      <td>31</td>\n",
       "      <td>2011</td>\n",
       "      <td>21</td>\n",
       "      <td>50</td>\n",
       "      <td>20.0</td>\n",
       "      <td>1.5</td>\n",
       "      <td>4.0</td>\n",
       "      <td>1.0</td>\n",
       "      <td>1</td>\n",
       "      <td>1</td>\n",
       "      <td>2.75</td>\n",
       "    </tr>\n",
       "    <tr>\n",
       "      <th>57</th>\n",
       "      <td>-9.166468</td>\n",
       "      <td>38.7231</td>\n",
       "      <td>8</td>\n",
       "      <td>31</td>\n",
       "      <td>2011</td>\n",
       "      <td>21</td>\n",
       "      <td>50</td>\n",
       "      <td>30.0</td>\n",
       "      <td>0.8</td>\n",
       "      <td>0.8</td>\n",
       "      <td>1.0</td>\n",
       "      <td>1</td>\n",
       "      <td>1</td>\n",
       "      <td>0.80</td>\n",
       "    </tr>\n",
       "    <tr>\n",
       "      <th>58</th>\n",
       "      <td>-9.166468</td>\n",
       "      <td>38.7231</td>\n",
       "      <td>8</td>\n",
       "      <td>31</td>\n",
       "      <td>2011</td>\n",
       "      <td>21</td>\n",
       "      <td>50</td>\n",
       "      <td>40.0</td>\n",
       "      <td>0.0</td>\n",
       "      <td>0.3</td>\n",
       "      <td>1.0</td>\n",
       "      <td>1</td>\n",
       "      <td>1</td>\n",
       "      <td>0.15</td>\n",
       "    </tr>\n",
       "  </tbody>\n",
       "</table>\n",
       "</div>"
      ],
      "text/plain": [
       "     Flood_X  Flood_Y  Month  Day  Year  Hour  Minute_x  Minute_y  Station1  \\\n",
       "54 -9.166468  38.7231      8   31  2011    21        50       0.0       2.0   \n",
       "55 -9.166468  38.7231      8   31  2011    21        50      10.0       3.3   \n",
       "56 -9.166468  38.7231      8   31  2011    21        50      20.0       1.5   \n",
       "57 -9.166468  38.7231      8   31  2011    21        50      30.0       0.8   \n",
       "58 -9.166468  38.7231      8   31  2011    21        50      40.0       0.0   \n",
       "\n",
       "    Station2  Polygon  Neg_Pos_Rain_S1  Neg_Pos_Rain_S2  Avg_precipitation  \n",
       "54       2.2      1.0                1                1               2.10  \n",
       "55       3.0      1.0                1                1               3.15  \n",
       "56       4.0      1.0                1                1               2.75  \n",
       "57       0.8      1.0                1                1               0.80  \n",
       "58       0.3      1.0                1                1               0.15  "
      ]
     },
     "execution_count": 966,
     "metadata": {},
     "output_type": "execute_result"
    }
   ],
   "source": [
    "floods=floods.sort_values(by=['Year','Month', 'Hour'])\n",
    "floods.head()"
   ]
  },
  {
   "cell_type": "markdown",
   "metadata": {},
   "source": [
    "### minimum amount of precipitation for each zone of the city using grouping"
   ]
  },
  {
   "cell_type": "code",
   "execution_count": 969,
   "metadata": {},
   "outputs": [
    {
     "data": {
      "text/html": [
       "<div>\n",
       "<style scoped>\n",
       "    .dataframe tbody tr th:only-of-type {\n",
       "        vertical-align: middle;\n",
       "    }\n",
       "\n",
       "    .dataframe tbody tr th {\n",
       "        vertical-align: top;\n",
       "    }\n",
       "\n",
       "    .dataframe thead th {\n",
       "        text-align: right;\n",
       "    }\n",
       "</style>\n",
       "<table border=\"1\" class=\"dataframe\">\n",
       "  <thead>\n",
       "    <tr style=\"text-align: right;\">\n",
       "      <th></th>\n",
       "      <th>Station1</th>\n",
       "      <th>Station2</th>\n",
       "    </tr>\n",
       "    <tr>\n",
       "      <th>Polygon</th>\n",
       "      <th></th>\n",
       "      <th></th>\n",
       "    </tr>\n",
       "  </thead>\n",
       "  <tbody>\n",
       "    <tr>\n",
       "      <th>1.0</th>\n",
       "      <td>-990.0</td>\n",
       "      <td>-990.0</td>\n",
       "    </tr>\n",
       "    <tr>\n",
       "      <th>2.0</th>\n",
       "      <td>-990.0</td>\n",
       "      <td>-990.0</td>\n",
       "    </tr>\n",
       "    <tr>\n",
       "      <th>3.0</th>\n",
       "      <td>-990.0</td>\n",
       "      <td>-990.0</td>\n",
       "    </tr>\n",
       "    <tr>\n",
       "      <th>4.0</th>\n",
       "      <td>-990.0</td>\n",
       "      <td>-990.0</td>\n",
       "    </tr>\n",
       "    <tr>\n",
       "      <th>5.0</th>\n",
       "      <td>-990.0</td>\n",
       "      <td>-990.0</td>\n",
       "    </tr>\n",
       "    <tr>\n",
       "      <th>6.0</th>\n",
       "      <td>-990.0</td>\n",
       "      <td>-990.0</td>\n",
       "    </tr>\n",
       "    <tr>\n",
       "      <th>8.0</th>\n",
       "      <td>-990.0</td>\n",
       "      <td>-990.0</td>\n",
       "    </tr>\n",
       "    <tr>\n",
       "      <th>9.0</th>\n",
       "      <td>-990.0</td>\n",
       "      <td>-990.0</td>\n",
       "    </tr>\n",
       "  </tbody>\n",
       "</table>\n",
       "</div>"
      ],
      "text/plain": [
       "         Station1  Station2\n",
       "Polygon                    \n",
       "1.0        -990.0    -990.0\n",
       "2.0        -990.0    -990.0\n",
       "3.0        -990.0    -990.0\n",
       "4.0        -990.0    -990.0\n",
       "5.0        -990.0    -990.0\n",
       "6.0        -990.0    -990.0\n",
       "8.0        -990.0    -990.0\n",
       "9.0        -990.0    -990.0"
      ]
     },
     "execution_count": 969,
     "metadata": {},
     "output_type": "execute_result"
    }
   ],
   "source": [
    "set1=floods[['Polygon','Station1','Station2']].groupby('Polygon').min()\n",
    "set1"
   ]
  },
  {
   "cell_type": "markdown",
   "metadata": {},
   "source": [
    "### mean precipitation for each zone of the city using grouping"
   ]
  },
  {
   "cell_type": "code",
   "execution_count": 970,
   "metadata": {},
   "outputs": [
    {
     "data": {
      "text/html": [
       "<div>\n",
       "<style scoped>\n",
       "    .dataframe tbody tr th:only-of-type {\n",
       "        vertical-align: middle;\n",
       "    }\n",
       "\n",
       "    .dataframe tbody tr th {\n",
       "        vertical-align: top;\n",
       "    }\n",
       "\n",
       "    .dataframe thead th {\n",
       "        text-align: right;\n",
       "    }\n",
       "</style>\n",
       "<table border=\"1\" class=\"dataframe\">\n",
       "  <thead>\n",
       "    <tr style=\"text-align: right;\">\n",
       "      <th></th>\n",
       "      <th>Station1</th>\n",
       "      <th>Station2</th>\n",
       "    </tr>\n",
       "    <tr>\n",
       "      <th>Polygon</th>\n",
       "      <th></th>\n",
       "      <th></th>\n",
       "    </tr>\n",
       "  </thead>\n",
       "  <tbody>\n",
       "    <tr>\n",
       "      <th>1.0</th>\n",
       "      <td>-284.313605</td>\n",
       "      <td>-8.262659</td>\n",
       "    </tr>\n",
       "    <tr>\n",
       "      <th>2.0</th>\n",
       "      <td>-234.334078</td>\n",
       "      <td>-13.149084</td>\n",
       "    </tr>\n",
       "    <tr>\n",
       "      <th>3.0</th>\n",
       "      <td>-265.899564</td>\n",
       "      <td>-6.060170</td>\n",
       "    </tr>\n",
       "    <tr>\n",
       "      <th>4.0</th>\n",
       "      <td>-216.016786</td>\n",
       "      <td>-12.404130</td>\n",
       "    </tr>\n",
       "    <tr>\n",
       "      <th>5.0</th>\n",
       "      <td>-85.733333</td>\n",
       "      <td>-20.814493</td>\n",
       "    </tr>\n",
       "    <tr>\n",
       "      <th>6.0</th>\n",
       "      <td>-234.426460</td>\n",
       "      <td>-7.961082</td>\n",
       "    </tr>\n",
       "    <tr>\n",
       "      <th>8.0</th>\n",
       "      <td>-272.378571</td>\n",
       "      <td>-34.832993</td>\n",
       "    </tr>\n",
       "    <tr>\n",
       "      <th>9.0</th>\n",
       "      <td>-203.597519</td>\n",
       "      <td>-14.528053</td>\n",
       "    </tr>\n",
       "  </tbody>\n",
       "</table>\n",
       "</div>"
      ],
      "text/plain": [
       "           Station1   Station2\n",
       "Polygon                       \n",
       "1.0     -284.313605  -8.262659\n",
       "2.0     -234.334078 -13.149084\n",
       "3.0     -265.899564  -6.060170\n",
       "4.0     -216.016786 -12.404130\n",
       "5.0      -85.733333 -20.814493\n",
       "6.0     -234.426460  -7.961082\n",
       "8.0     -272.378571 -34.832993\n",
       "9.0     -203.597519 -14.528053"
      ]
     },
     "execution_count": 970,
     "metadata": {},
     "output_type": "execute_result"
    }
   ],
   "source": [
    "set2=floods[['Polygon','Station1','Station2']].groupby('Polygon').mean()\n",
    "set2"
   ]
  },
  {
   "cell_type": "code",
   "execution_count": 971,
   "metadata": {},
   "outputs": [],
   "source": [
    "# get postive values of precipitation\n",
    "def get_pos_rain(x):\n",
    "    if x>0:\n",
    "        return x\n",
    "    else:\n",
    "        return 0"
   ]
  },
  {
   "cell_type": "code",
   "execution_count": 972,
   "metadata": {},
   "outputs": [],
   "source": [
    "# get positive value from each satations\n",
    "\n",
    "floods['Pos_Rain_S1']=floods.apply(lambda x: get_pos_rain(x.Station1),axis=1)\n",
    "floods['Pos_Rain_S2']=floods.apply(lambda x: get_pos_rain(x.Station2),axis=1)"
   ]
  },
  {
   "cell_type": "code",
   "execution_count": 973,
   "metadata": {},
   "outputs": [
    {
     "data": {
      "text/html": [
       "<div>\n",
       "<style scoped>\n",
       "    .dataframe tbody tr th:only-of-type {\n",
       "        vertical-align: middle;\n",
       "    }\n",
       "\n",
       "    .dataframe tbody tr th {\n",
       "        vertical-align: top;\n",
       "    }\n",
       "\n",
       "    .dataframe thead th {\n",
       "        text-align: right;\n",
       "    }\n",
       "</style>\n",
       "<table border=\"1\" class=\"dataframe\">\n",
       "  <thead>\n",
       "    <tr style=\"text-align: right;\">\n",
       "      <th></th>\n",
       "      <th>Flood_X</th>\n",
       "      <th>Flood_Y</th>\n",
       "      <th>Month</th>\n",
       "      <th>Day</th>\n",
       "      <th>Year</th>\n",
       "      <th>Hour</th>\n",
       "      <th>Minute_x</th>\n",
       "      <th>Minute_y</th>\n",
       "      <th>Station1</th>\n",
       "      <th>Station2</th>\n",
       "      <th>Polygon</th>\n",
       "      <th>Neg_Pos_Rain_S1</th>\n",
       "      <th>Neg_Pos_Rain_S2</th>\n",
       "      <th>Avg_precipitation</th>\n",
       "      <th>Pos_Rain_S1</th>\n",
       "      <th>Pos_Rain_S2</th>\n",
       "    </tr>\n",
       "  </thead>\n",
       "  <tbody>\n",
       "    <tr>\n",
       "      <th>54</th>\n",
       "      <td>-9.166468</td>\n",
       "      <td>38.7231</td>\n",
       "      <td>8</td>\n",
       "      <td>31</td>\n",
       "      <td>2011</td>\n",
       "      <td>21</td>\n",
       "      <td>50</td>\n",
       "      <td>0.0</td>\n",
       "      <td>2.0</td>\n",
       "      <td>2.2</td>\n",
       "      <td>1.0</td>\n",
       "      <td>1</td>\n",
       "      <td>1</td>\n",
       "      <td>2.10</td>\n",
       "      <td>2.0</td>\n",
       "      <td>2.2</td>\n",
       "    </tr>\n",
       "    <tr>\n",
       "      <th>55</th>\n",
       "      <td>-9.166468</td>\n",
       "      <td>38.7231</td>\n",
       "      <td>8</td>\n",
       "      <td>31</td>\n",
       "      <td>2011</td>\n",
       "      <td>21</td>\n",
       "      <td>50</td>\n",
       "      <td>10.0</td>\n",
       "      <td>3.3</td>\n",
       "      <td>3.0</td>\n",
       "      <td>1.0</td>\n",
       "      <td>1</td>\n",
       "      <td>1</td>\n",
       "      <td>3.15</td>\n",
       "      <td>3.3</td>\n",
       "      <td>3.0</td>\n",
       "    </tr>\n",
       "    <tr>\n",
       "      <th>56</th>\n",
       "      <td>-9.166468</td>\n",
       "      <td>38.7231</td>\n",
       "      <td>8</td>\n",
       "      <td>31</td>\n",
       "      <td>2011</td>\n",
       "      <td>21</td>\n",
       "      <td>50</td>\n",
       "      <td>20.0</td>\n",
       "      <td>1.5</td>\n",
       "      <td>4.0</td>\n",
       "      <td>1.0</td>\n",
       "      <td>1</td>\n",
       "      <td>1</td>\n",
       "      <td>2.75</td>\n",
       "      <td>1.5</td>\n",
       "      <td>4.0</td>\n",
       "    </tr>\n",
       "    <tr>\n",
       "      <th>57</th>\n",
       "      <td>-9.166468</td>\n",
       "      <td>38.7231</td>\n",
       "      <td>8</td>\n",
       "      <td>31</td>\n",
       "      <td>2011</td>\n",
       "      <td>21</td>\n",
       "      <td>50</td>\n",
       "      <td>30.0</td>\n",
       "      <td>0.8</td>\n",
       "      <td>0.8</td>\n",
       "      <td>1.0</td>\n",
       "      <td>1</td>\n",
       "      <td>1</td>\n",
       "      <td>0.80</td>\n",
       "      <td>0.8</td>\n",
       "      <td>0.8</td>\n",
       "    </tr>\n",
       "    <tr>\n",
       "      <th>58</th>\n",
       "      <td>-9.166468</td>\n",
       "      <td>38.7231</td>\n",
       "      <td>8</td>\n",
       "      <td>31</td>\n",
       "      <td>2011</td>\n",
       "      <td>21</td>\n",
       "      <td>50</td>\n",
       "      <td>40.0</td>\n",
       "      <td>0.0</td>\n",
       "      <td>0.3</td>\n",
       "      <td>1.0</td>\n",
       "      <td>1</td>\n",
       "      <td>1</td>\n",
       "      <td>0.15</td>\n",
       "      <td>0.0</td>\n",
       "      <td>0.3</td>\n",
       "    </tr>\n",
       "  </tbody>\n",
       "</table>\n",
       "</div>"
      ],
      "text/plain": [
       "     Flood_X  Flood_Y  Month  Day  Year  Hour  Minute_x  Minute_y  Station1  \\\n",
       "54 -9.166468  38.7231      8   31  2011    21        50       0.0       2.0   \n",
       "55 -9.166468  38.7231      8   31  2011    21        50      10.0       3.3   \n",
       "56 -9.166468  38.7231      8   31  2011    21        50      20.0       1.5   \n",
       "57 -9.166468  38.7231      8   31  2011    21        50      30.0       0.8   \n",
       "58 -9.166468  38.7231      8   31  2011    21        50      40.0       0.0   \n",
       "\n",
       "    Station2  Polygon  Neg_Pos_Rain_S1  Neg_Pos_Rain_S2  Avg_precipitation  \\\n",
       "54       2.2      1.0                1                1               2.10   \n",
       "55       3.0      1.0                1                1               3.15   \n",
       "56       4.0      1.0                1                1               2.75   \n",
       "57       0.8      1.0                1                1               0.80   \n",
       "58       0.3      1.0                1                1               0.15   \n",
       "\n",
       "    Pos_Rain_S1  Pos_Rain_S2  \n",
       "54          2.0          2.2  \n",
       "55          3.3          3.0  \n",
       "56          1.5          4.0  \n",
       "57          0.8          0.8  \n",
       "58          0.0          0.3  "
      ]
     },
     "execution_count": 973,
     "metadata": {},
     "output_type": "execute_result"
    }
   ],
   "source": [
    "floods.head()"
   ]
  },
  {
   "cell_type": "code",
   "execution_count": null,
   "metadata": {},
   "outputs": [],
   "source": []
  },
  {
   "cell_type": "code",
   "execution_count": 974,
   "metadata": {},
   "outputs": [
    {
     "data": {
      "text/plain": [
       "<matplotlib.axes._subplots.AxesSubplot at 0x7f7bd2267cc0>"
      ]
     },
     "execution_count": 974,
     "metadata": {},
     "output_type": "execute_result"
    },
    {
     "data": {
      "image/png": "[encoded data removed]",
      "text/plain": [
       "<Figure size 432x288 with 1 Axes>"
      ]
     },
     "metadata": {},
     "output_type": "display_data"
    }
   ],
   "source": [
    "sns.distplot(floods['Pos_Rain_S1'])"
   ]
  },
  {
   "cell_type": "code",
   "execution_count": 975,
   "metadata": {},
   "outputs": [
    {
     "data": {
      "text/plain": [
       "<matplotlib.axes._subplots.AxesSubplot at 0x7f7bd0ef0668>"
      ]
     },
     "execution_count": 975,
     "metadata": {},
     "output_type": "execute_result"
    },
    {
     "data": {
      "image/png": "[encoded data removed]",
      "text/plain": [
       "<Figure size 432x288 with 1 Axes>"
      ]
     },
     "metadata": {},
     "output_type": "display_data"
    }
   ],
   "source": [
    "sns.distplot(floods['Pos_Rain_S2'])\n"
   ]
  },
  {
   "cell_type": "code",
   "execution_count": 978,
   "metadata": {},
   "outputs": [],
   "source": [
    "# Average of Positive precipitation\n",
    "\n",
    "floods['Positive_avg_precipitation']=floods.apply(lambda x: (float(x.Pos_Rain_S1+x.Pos_Rain_S2)/2),axis=1)"
   ]
  },
  {
   "cell_type": "code",
   "execution_count": 979,
   "metadata": {},
   "outputs": [
    {
     "data": {
      "text/plain": [
       "count    24732.000000\n",
       "mean      -134.237807\n",
       "std        225.502719\n",
       "min       -990.000000\n",
       "25%       -493.700000\n",
       "50%          0.000000\n",
       "75%          0.300000\n",
       "max         14.100000\n",
       "Name: Avg_precipitation, dtype: float64"
      ]
     },
     "execution_count": 979,
     "metadata": {},
     "output_type": "execute_result"
    }
   ],
   "source": [
    "floods['Avg_precipitation'].describe()"
   ]
  },
  {
   "cell_type": "code",
   "execution_count": 980,
   "metadata": {},
   "outputs": [
    {
     "data": {
      "text/plain": [
       "count    24732.000000\n",
       "mean         0.440140\n",
       "std          0.829076\n",
       "min          0.000000\n",
       "25%          0.000000\n",
       "50%          0.050000\n",
       "75%          0.500000\n",
       "max         14.100000\n",
       "Name: Positive_avg_precipitation, dtype: float64"
      ]
     },
     "execution_count": 980,
     "metadata": {},
     "output_type": "execute_result"
    }
   ],
   "source": [
    "floods['Positive_avg_precipitation'].describe()"
   ]
  },
  {
   "cell_type": "code",
   "execution_count": 981,
   "metadata": {},
   "outputs": [],
   "source": [
    "from sklearn.model_selection import train_test_split\n",
    "from sklearn import metrics"
   ]
  },
  {
   "cell_type": "markdown",
   "metadata": {},
   "source": [
    "### Select best feature for that classication"
   ]
  },
  {
   "cell_type": "code",
   "execution_count": 991,
   "metadata": {},
   "outputs": [],
   "source": [
    "features=floods[['Year','Day','Month','Hour','Avg_precipitation','Neg_Pos_Rain_S1','Neg_Pos_Rain_S2','Positive_avg_precipitation']]"
   ]
  },
  {
   "cell_type": "markdown",
   "metadata": {},
   "source": [
    "\n",
    "\n",
    "## Split the data to train and test"
   ]
  },
  {
   "cell_type": "code",
   "execution_count": 992,
   "metadata": {},
   "outputs": [],
   "source": [
    "x_train, x_test, y_train, y_test = train_test_split(features,floods['Polygon'], test_size = 0.2,random_state=42)"
   ]
  },
  {
   "cell_type": "code",
   "execution_count": 993,
   "metadata": {},
   "outputs": [],
   "source": [
    "from sklearn.ensemble import RandomForestClassifier\n",
    "clf=RandomForestClassifier(n_estimators=100,max_features='auto',random_state=0,\n",
    "                          max_depth=2)\n",
    "clf.fit(x_train,y_train)\n",
    "\n",
    "y_pred=clf.predict(x_test)\n",
    "y_train_pred = clf.predict(x_train)\n",
    "\n"
   ]
  },
  {
   "cell_type": "code",
   "execution_count": 994,
   "metadata": {},
   "outputs": [
    {
     "name": "stdout",
     "output_type": "stream",
     "text": [
      "train accuracy=  0.43967652261814505\n",
      "test accuracy=  0.44046897109359207\n"
     ]
    }
   ],
   "source": [
    "# calculate accuracy\n",
    "from sklearn import metrics\n",
    "\n",
    "print(\"train accuracy= \",metrics.accuracy_score(y_train, y_train_pred))\n",
    "print(\"test accuracy= \", metrics.accuracy_score(y_test, y_pred))"
   ]
  },
  {
   "cell_type": "markdown",
   "metadata": {},
   "source": [
    "## for get a higher acuuracy. we should get more meaningful and true features."
   ]
  },
  {
   "cell_type": "code",
   "execution_count": 995,
   "metadata": {},
   "outputs": [
    {
     "data": {
      "text/plain": [
       "1.0    2179\n",
       "3.0    1054\n",
       "4.0     648\n",
       "2.0     384\n",
       "9.0     319\n",
       "6.0     220\n",
       "8.0     119\n",
       "5.0      24\n",
       "Name: Polygon, dtype: int64"
      ]
     },
     "execution_count": 995,
     "metadata": {},
     "output_type": "execute_result"
    }
   ],
   "source": [
    "# examine the class distribution of the testing set (using a Pandas Series method)\n",
    "y_test.value_counts()"
   ]
  },
  {
   "cell_type": "markdown",
   "metadata": {},
   "source": [
    "## Cross Validation\n",
    "\n",
    "#### The cross_val_score returns the accuracy for all the folds\n"
   ]
  },
  {
   "cell_type": "code",
   "execution_count": 996,
   "metadata": {},
   "outputs": [
    {
     "name": "stdout",
     "output_type": "stream",
     "text": [
      "[0.43895055 0.43895055 0.43917214 0.43939394 0.43983822 0.43983822\n",
      " 0.4400607  0.4400607  0.4402834  0.4402229 ]\n"
     ]
    }
   ],
   "source": [
    "from sklearn.model_selection import cross_val_score\n",
    "all_accuracies = cross_val_score(estimator=clf, X=x_train, y=y_train, cv=10)\n",
    "\n",
    "print(all_accuracies)"
   ]
  },
  {
   "cell_type": "code",
   "execution_count": 997,
   "metadata": {},
   "outputs": [
    {
     "name": "stdout",
     "output_type": "stream",
     "text": [
      "0.4396771320052452\n"
     ]
    }
   ],
   "source": [
    "#average of all the accuracies\n",
    "print(all_accuracies.mean())"
   ]
  },
  {
   "cell_type": "code",
   "execution_count": 998,
   "metadata": {},
   "outputs": [
    {
     "name": "stdout",
     "output_type": "stream",
     "text": [
      "0.0004901647492637977\n"
     ]
    }
   ],
   "source": [
    "#standard deviation of the data to see degree of variance in the results obtained by our model\n",
    "\n",
    "print(all_accuracies.std())"
   ]
  },
  {
   "cell_type": "markdown",
   "metadata": {},
   "source": [
    "#### The result is: 0.002292 which is 0.22%. This is extremely low, which means that our model has a very low variance, which is actually very good since that means that the prediction that we obtained on one test set is not by chance. Rather, the model will perform more or less similar on all test sets.\n",
    "\n",
    "### ----------------------------------------------------------------------------------------------------------------------------------------------------------"
   ]
  },
  {
   "cell_type": "markdown",
   "metadata": {},
   "source": [
    "## Grid Search for Parameter Selection\n",
    "\n",
    "##### A machine learning model has two types of parameters. The first type of parameters are the parameters that are learned through a machine learning model while the second type of parameters are the hyper parameter that we pass to the machine learning model."
   ]
  },
  {
   "cell_type": "code",
   "execution_count": 1004,
   "metadata": {},
   "outputs": [],
   "source": [
    "#dictionary of parameters and their corresponding values for our Random Forest\n",
    "\n",
    "grid_param = {\n",
    "    'n_estimators': [20,50,100, 300],\n",
    "    'criterion': ['gini', 'entropy'],\n",
    "    'bootstrap': [True, False],\n",
    "    'max_depth':[2,4,8]\n",
    "}"
   ]
  },
  {
   "cell_type": "code",
   "execution_count": 1005,
   "metadata": {},
   "outputs": [],
   "source": [
    "gd_sr = GridSearchCV(estimator=clf,\n",
    "                     param_grid=grid_param,\n",
    "                     scoring='accuracy',\n",
    "                     cv=5,\n",
    "                     n_jobs=-1)"
   ]
  },
  {
   "cell_type": "code",
   "execution_count": 1006,
   "metadata": {},
   "outputs": [
    {
     "data": {
      "text/plain": [
       "GridSearchCV(cv=5, error_score='raise-deprecating',\n",
       "             estimator=RandomForestClassifier(bootstrap=True, class_weight=None,\n",
       "                                              criterion='gini', max_depth=2,\n",
       "                                              max_features='auto',\n",
       "                                              max_leaf_nodes=None,\n",
       "                                              min_impurity_decrease=0.0,\n",
       "                                              min_impurity_split=None,\n",
       "                                              min_samples_leaf=1,\n",
       "                                              min_samples_split=2,\n",
       "                                              min_weight_fraction_leaf=0.0,\n",
       "                                              n_estimators=100, n_jobs=None,\n",
       "                                              oob_score=False, random_state=0,\n",
       "                                              verbose=0, warm_start=False),\n",
       "             iid='warn', n_jobs=-1,\n",
       "             param_grid={'bootstrap': [True, False],\n",
       "                         'criterion': ['gini', 'entropy'],\n",
       "                         'max_depth': [2, 4, 8],\n",
       "                         'n_estimators': [20, 50, 100, 300]},\n",
       "             pre_dispatch='2*n_jobs', refit=True, return_train_score=False,\n",
       "             scoring='accuracy', verbose=0)"
      ]
     },
     "execution_count": 1006,
     "metadata": {},
     "output_type": "execute_result"
    }
   ],
   "source": [
    "gd_sr.fit(x_train, y_train)"
   ]
  },
  {
   "cell_type": "markdown",
   "metadata": {},
   "source": [
    "### check the parameters that return the highest accuracy."
   ]
  },
  {
   "cell_type": "code",
   "execution_count": 1007,
   "metadata": {},
   "outputs": [
    {
     "name": "stdout",
     "output_type": "stream",
     "text": [
      "{'bootstrap': False, 'criterion': 'gini', 'max_depth': 8, 'n_estimators': 100}\n"
     ]
    }
   ],
   "source": [
    "best_parameters = gd_sr.best_params_\n",
    "print(best_parameters)"
   ]
  },
  {
   "cell_type": "markdown",
   "metadata": {},
   "source": [
    "### best accuracy achieved"
   ]
  },
  {
   "cell_type": "code",
   "execution_count": 1008,
   "metadata": {},
   "outputs": [
    {
     "name": "stdout",
     "output_type": "stream",
     "text": [
      "0.4722264341672985\n"
     ]
    }
   ],
   "source": [
    "best_result = gd_sr.best_score_\n",
    "print(best_result)"
   ]
  },
  {
   "cell_type": "markdown",
   "metadata": {},
   "source": [
    "## Feature importances"
   ]
  },
  {
   "cell_type": "code",
   "execution_count": 1009,
   "metadata": {},
   "outputs": [
    {
     "name": "stdout",
     "output_type": "stream",
     "text": [
      "Feature ranking:\n",
      "1. feature 1 (0.217517)\n",
      "2. feature 0 (0.154107)\n",
      "3. feature 4 (0.146391)\n",
      "4. feature 3 (0.143559)\n",
      "5. feature 2 (0.141304)\n",
      "6. feature 5 (0.122517)\n",
      "7. feature 7 (0.071472)\n",
      "8. feature 6 (0.003132)\n"
     ]
    },
    {
     "data": {
      "image/png": "[encoded data removed]",
      "text/plain": [
       "<Figure size 432x288 with 1 Axes>"
      ]
     },
     "metadata": {},
     "output_type": "display_data"
    }
   ],
   "source": [
    "importances = clf.feature_importances_\n",
    "std = np.std([tree.feature_importances_ for tree in clf.estimators_],\n",
    "             axis=0)\n",
    "indices = np.argsort(importances)[::-1]\n",
    "\n",
    "# Print the feature ranking\n",
    "print(\"Feature ranking:\")\n",
    "\n",
    "for f in range(x_train.shape[1]):\n",
    "    print(\"%d. feature %d (%f)\" % (f + 1, indices[f], importances[indices[f]]))\n",
    "\n",
    "# Plot the feature importances of the forest\n",
    "plt.figure()\n",
    "plt.title(\"Feature importances\")\n",
    "plt.bar(range(x_train.shape[1]), importances[indices],\n",
    "       color=\"r\", yerr=std[indices], align=\"center\")\n",
    "plt.xticks(range(x_train.shape[1]), indices)\n",
    "plt.xlim([-1, x_train.shape[1]])\n",
    "plt.show()"
   ]
  },
  {
   "cell_type": "markdown",
   "metadata": {},
   "source": [
    "## correlations"
   ]
  },
  {
   "cell_type": "code",
   "execution_count": 1010,
   "metadata": {},
   "outputs": [],
   "source": [
    "coor_tide_rain= pd.merge(tide_coor,rain_coor, on=['Month','Day','Year','Hour'], how='left')"
   ]
  },
  {
   "cell_type": "code",
   "execution_count": 1011,
   "metadata": {},
   "outputs": [
    {
     "data": {
      "text/plain": [
       "Tide_Data          0\n",
       "Tide_Hour          0\n",
       "Tide_Weight        0\n",
       "Month              0\n",
       "Day                0\n",
       "Year               0\n",
       "Hour               0\n",
       "Minute_x           0\n",
       "Minute_y       16761\n",
       "Station1       16761\n",
       "Station2       16761\n",
       "dtype: int64"
      ]
     },
     "execution_count": 1011,
     "metadata": {},
     "output_type": "execute_result"
    }
   ],
   "source": [
    "coor_tide_rain.isnull().sum()"
   ]
  },
  {
   "cell_type": "code",
   "execution_count": 1012,
   "metadata": {},
   "outputs": [
    {
     "data": {
      "text/plain": [
       "3120909"
      ]
     },
     "execution_count": 1012,
     "metadata": {},
     "output_type": "execute_result"
    }
   ],
   "source": [
    "coor_tide_rain.size"
   ]
  },
  {
   "cell_type": "code",
   "execution_count": 1013,
   "metadata": {},
   "outputs": [],
   "source": [
    "coor_tide_rain=coor_tide_rain.dropna()"
   ]
  },
  {
   "cell_type": "code",
   "execution_count": null,
   "metadata": {},
   "outputs": [],
   "source": []
  },
  {
   "cell_type": "code",
   "execution_count": 1014,
   "metadata": {},
   "outputs": [
    {
     "data": {
      "text/html": [
       "<style  type=\"text/css\" >\n",
       "    #T_32c724a8_1d9e_11ea_8af6_87949c6d5fc0row0_col0 {\n",
       "            background-color:  #b40426;\n",
       "            color:  #f1f1f1;\n",
       "        }    #T_32c724a8_1d9e_11ea_8af6_87949c6d5fc0row0_col1 {\n",
       "            background-color:  #3b4cc0;\n",
       "            color:  #f1f1f1;\n",
       "        }    #T_32c724a8_1d9e_11ea_8af6_87949c6d5fc0row0_col2 {\n",
       "            background-color:  #3b4cc0;\n",
       "            color:  #f1f1f1;\n",
       "        }    #T_32c724a8_1d9e_11ea_8af6_87949c6d5fc0row1_col0 {\n",
       "            background-color:  #3c4ec2;\n",
       "            color:  #f1f1f1;\n",
       "        }    #T_32c724a8_1d9e_11ea_8af6_87949c6d5fc0row1_col1 {\n",
       "            background-color:  #b40426;\n",
       "            color:  #f1f1f1;\n",
       "        }    #T_32c724a8_1d9e_11ea_8af6_87949c6d5fc0row1_col2 {\n",
       "            background-color:  #5572df;\n",
       "            color:  #000000;\n",
       "        }    #T_32c724a8_1d9e_11ea_8af6_87949c6d5fc0row2_col0 {\n",
       "            background-color:  #3b4cc0;\n",
       "            color:  #f1f1f1;\n",
       "        }    #T_32c724a8_1d9e_11ea_8af6_87949c6d5fc0row2_col1 {\n",
       "            background-color:  #5470de;\n",
       "            color:  #000000;\n",
       "        }    #T_32c724a8_1d9e_11ea_8af6_87949c6d5fc0row2_col2 {\n",
       "            background-color:  #b40426;\n",
       "            color:  #f1f1f1;\n",
       "        }</style><table id=\"T_32c724a8_1d9e_11ea_8af6_87949c6d5fc0\" ><thead>    <tr>        <th class=\"blank level0\" ></th>        <th class=\"col_heading level0 col0\" >Tide_Weight</th>        <th class=\"col_heading level0 col1\" >Station1</th>        <th class=\"col_heading level0 col2\" >Station2</th>    </tr></thead><tbody>\n",
       "                <tr>\n",
       "                        <th id=\"T_32c724a8_1d9e_11ea_8af6_87949c6d5fc0level0_row0\" class=\"row_heading level0 row0\" >Tide_Weight</th>\n",
       "                        <td id=\"T_32c724a8_1d9e_11ea_8af6_87949c6d5fc0row0_col0\" class=\"data row0 col0\" >1</td>\n",
       "                        <td id=\"T_32c724a8_1d9e_11ea_8af6_87949c6d5fc0row0_col1\" class=\"data row0 col1\" >0.0145062</td>\n",
       "                        <td id=\"T_32c724a8_1d9e_11ea_8af6_87949c6d5fc0row0_col2\" class=\"data row0 col2\" >0.0102975</td>\n",
       "            </tr>\n",
       "            <tr>\n",
       "                        <th id=\"T_32c724a8_1d9e_11ea_8af6_87949c6d5fc0level0_row1\" class=\"row_heading level0 row1\" >Station1</th>\n",
       "                        <td id=\"T_32c724a8_1d9e_11ea_8af6_87949c6d5fc0row1_col0\" class=\"data row1 col0\" >0.0145062</td>\n",
       "                        <td id=\"T_32c724a8_1d9e_11ea_8af6_87949c6d5fc0row1_col1\" class=\"data row1 col1\" >1</td>\n",
       "                        <td id=\"T_32c724a8_1d9e_11ea_8af6_87949c6d5fc0row1_col2\" class=\"data row1 col2\" >0.0991617</td>\n",
       "            </tr>\n",
       "            <tr>\n",
       "                        <th id=\"T_32c724a8_1d9e_11ea_8af6_87949c6d5fc0level0_row2\" class=\"row_heading level0 row2\" >Station2</th>\n",
       "                        <td id=\"T_32c724a8_1d9e_11ea_8af6_87949c6d5fc0row2_col0\" class=\"data row2 col0\" >0.0102975</td>\n",
       "                        <td id=\"T_32c724a8_1d9e_11ea_8af6_87949c6d5fc0row2_col1\" class=\"data row2 col1\" >0.0991617</td>\n",
       "                        <td id=\"T_32c724a8_1d9e_11ea_8af6_87949c6d5fc0row2_col2\" class=\"data row2 col2\" >1</td>\n",
       "            </tr>\n",
       "    </tbody></table>"
      ],
      "text/plain": [
       "<pandas.io.formats.style.Styler at 0x7f7bd815abe0>"
      ]
     },
     "execution_count": 1014,
     "metadata": {},
     "output_type": "execute_result"
    }
   ],
   "source": [
    "corr1 = coor_tide_rain[['Tide_Weight','Station1','Station2']].corr()\n",
    "corr1.style.background_gradient(cmap='coolwarm')"
   ]
  },
  {
   "cell_type": "markdown",
   "metadata": {},
   "source": [
    "## correlation between tide and precetition\n",
    "\n",
    "\n",
    "\n",
    "\n",
    "\n",
    "## ------------------------\n",
    "\n",
    "\n",
    "\n",
    "\n"
   ]
  },
  {
   "cell_type": "code",
   "execution_count": 1015,
   "metadata": {},
   "outputs": [],
   "source": [
    "coor_tide_flood= pd.merge(tide_coor,flood_coor, on=['Month','Day','Year','Hour'], how='left')"
   ]
  },
  {
   "cell_type": "code",
   "execution_count": 1016,
   "metadata": {},
   "outputs": [
    {
     "data": {
      "text/html": [
       "<div>\n",
       "<style scoped>\n",
       "    .dataframe tbody tr th:only-of-type {\n",
       "        vertical-align: middle;\n",
       "    }\n",
       "\n",
       "    .dataframe tbody tr th {\n",
       "        vertical-align: top;\n",
       "    }\n",
       "\n",
       "    .dataframe thead th {\n",
       "        text-align: right;\n",
       "    }\n",
       "</style>\n",
       "<table border=\"1\" class=\"dataframe\">\n",
       "  <thead>\n",
       "    <tr style=\"text-align: right;\">\n",
       "      <th></th>\n",
       "      <th>Tide_Data</th>\n",
       "      <th>Tide_Hour</th>\n",
       "      <th>Tide_Weight</th>\n",
       "      <th>Month</th>\n",
       "      <th>Day</th>\n",
       "      <th>Year</th>\n",
       "      <th>Hour</th>\n",
       "      <th>Minute_x</th>\n",
       "      <th>Flood_Date</th>\n",
       "      <th>Flood_Hour</th>\n",
       "      <th>Flood_X</th>\n",
       "      <th>Flood_Y</th>\n",
       "      <th>Minute_y</th>\n",
       "    </tr>\n",
       "  </thead>\n",
       "  <tbody>\n",
       "    <tr>\n",
       "      <th>0</th>\n",
       "      <td>08/31/2011</td>\n",
       "      <td>04:29:00 AM</td>\n",
       "      <td>4.04</td>\n",
       "      <td>8</td>\n",
       "      <td>31</td>\n",
       "      <td>2011</td>\n",
       "      <td>4</td>\n",
       "      <td>30</td>\n",
       "      <td>NaN</td>\n",
       "      <td>NaN</td>\n",
       "      <td>NaN</td>\n",
       "      <td>NaN</td>\n",
       "      <td>NaN</td>\n",
       "    </tr>\n",
       "    <tr>\n",
       "      <th>1</th>\n",
       "      <td>08/31/2011</td>\n",
       "      <td>10:12:00 AM</td>\n",
       "      <td>0.31</td>\n",
       "      <td>8</td>\n",
       "      <td>31</td>\n",
       "      <td>2011</td>\n",
       "      <td>10</td>\n",
       "      <td>10</td>\n",
       "      <td>NaN</td>\n",
       "      <td>NaN</td>\n",
       "      <td>NaN</td>\n",
       "      <td>NaN</td>\n",
       "      <td>NaN</td>\n",
       "    </tr>\n",
       "    <tr>\n",
       "      <th>2</th>\n",
       "      <td>08/31/2011</td>\n",
       "      <td>04:49:00 PM</td>\n",
       "      <td>4.22</td>\n",
       "      <td>8</td>\n",
       "      <td>31</td>\n",
       "      <td>2011</td>\n",
       "      <td>16</td>\n",
       "      <td>50</td>\n",
       "      <td>NaN</td>\n",
       "      <td>NaN</td>\n",
       "      <td>NaN</td>\n",
       "      <td>NaN</td>\n",
       "      <td>NaN</td>\n",
       "    </tr>\n",
       "    <tr>\n",
       "      <th>3</th>\n",
       "      <td>08/31/2011</td>\n",
       "      <td>10:38:00 PM</td>\n",
       "      <td>0.33</td>\n",
       "      <td>8</td>\n",
       "      <td>31</td>\n",
       "      <td>2011</td>\n",
       "      <td>22</td>\n",
       "      <td>40</td>\n",
       "      <td>08/31/2011</td>\n",
       "      <td>10:37:00 PM</td>\n",
       "      <td>-9.116707</td>\n",
       "      <td>38.729970</td>\n",
       "      <td>40.0</td>\n",
       "    </tr>\n",
       "    <tr>\n",
       "      <th>4</th>\n",
       "      <td>08/31/2011</td>\n",
       "      <td>10:38:00 PM</td>\n",
       "      <td>0.33</td>\n",
       "      <td>8</td>\n",
       "      <td>31</td>\n",
       "      <td>2011</td>\n",
       "      <td>22</td>\n",
       "      <td>40</td>\n",
       "      <td>08/31/2011</td>\n",
       "      <td>10:03:00 PM</td>\n",
       "      <td>-9.180111</td>\n",
       "      <td>38.709821</td>\n",
       "      <td>0.0</td>\n",
       "    </tr>\n",
       "  </tbody>\n",
       "</table>\n",
       "</div>"
      ],
      "text/plain": [
       "    Tide_Data    Tide_Hour  Tide_Weight  Month  Day  Year  Hour  Minute_x  \\\n",
       "0  08/31/2011  04:29:00 AM         4.04      8   31  2011     4        30   \n",
       "1  08/31/2011  10:12:00 AM         0.31      8   31  2011    10        10   \n",
       "2  08/31/2011  04:49:00 PM         4.22      8   31  2011    16        50   \n",
       "3  08/31/2011  10:38:00 PM         0.33      8   31  2011    22        40   \n",
       "4  08/31/2011  10:38:00 PM         0.33      8   31  2011    22        40   \n",
       "\n",
       "   Flood_Date   Flood_Hour   Flood_X    Flood_Y  Minute_y  \n",
       "0         NaN          NaN       NaN        NaN       NaN  \n",
       "1         NaN          NaN       NaN        NaN       NaN  \n",
       "2         NaN          NaN       NaN        NaN       NaN  \n",
       "3  08/31/2011  10:37:00 PM -9.116707  38.729970      40.0  \n",
       "4  08/31/2011  10:03:00 PM -9.180111  38.709821       0.0  "
      ]
     },
     "execution_count": 1016,
     "metadata": {},
     "output_type": "execute_result"
    }
   ],
   "source": [
    "coor_tide_flood.head()"
   ]
  },
  {
   "cell_type": "markdown",
   "metadata": {},
   "source": [
    "## Flood or Not "
   ]
  },
  {
   "cell_type": "code",
   "execution_count": 1017,
   "metadata": {},
   "outputs": [
    {
     "data": {
      "text/plain": [
       "array([ True, False])"
      ]
     },
     "execution_count": 1017,
     "metadata": {},
     "output_type": "execute_result"
    }
   ],
   "source": [
    "coor_tide_flood['Flood']=coor_tide_flood['Flood_Date'].isnull()\n",
    "coor_tide_flood['Flood'].unique()"
   ]
  },
  {
   "cell_type": "code",
   "execution_count": 1018,
   "metadata": {},
   "outputs": [
    {
     "data": {
      "text/html": [
       "<style  type=\"text/css\" >\n",
       "    #T_356da0ba_1d9e_11ea_8af6_87949c6d5fc0row0_col0 {\n",
       "            background-color:  #b40426;\n",
       "            color:  #f1f1f1;\n",
       "        }    #T_356da0ba_1d9e_11ea_8af6_87949c6d5fc0row0_col1 {\n",
       "            background-color:  #3b4cc0;\n",
       "            color:  #f1f1f1;\n",
       "        }    #T_356da0ba_1d9e_11ea_8af6_87949c6d5fc0row1_col0 {\n",
       "            background-color:  #3b4cc0;\n",
       "            color:  #f1f1f1;\n",
       "        }    #T_356da0ba_1d9e_11ea_8af6_87949c6d5fc0row1_col1 {\n",
       "            background-color:  #b40426;\n",
       "            color:  #f1f1f1;\n",
       "        }</style><table id=\"T_356da0ba_1d9e_11ea_8af6_87949c6d5fc0\" ><thead>    <tr>        <th class=\"blank level0\" ></th>        <th class=\"col_heading level0 col0\" >Tide_Weight</th>        <th class=\"col_heading level0 col1\" >Flood</th>    </tr></thead><tbody>\n",
       "                <tr>\n",
       "                        <th id=\"T_356da0ba_1d9e_11ea_8af6_87949c6d5fc0level0_row0\" class=\"row_heading level0 row0\" >Tide_Weight</th>\n",
       "                        <td id=\"T_356da0ba_1d9e_11ea_8af6_87949c6d5fc0row0_col0\" class=\"data row0 col0\" >1</td>\n",
       "                        <td id=\"T_356da0ba_1d9e_11ea_8af6_87949c6d5fc0row0_col1\" class=\"data row0 col1\" >-0.0356667</td>\n",
       "            </tr>\n",
       "            <tr>\n",
       "                        <th id=\"T_356da0ba_1d9e_11ea_8af6_87949c6d5fc0level0_row1\" class=\"row_heading level0 row1\" >Flood</th>\n",
       "                        <td id=\"T_356da0ba_1d9e_11ea_8af6_87949c6d5fc0row1_col0\" class=\"data row1 col0\" >-0.0356667</td>\n",
       "                        <td id=\"T_356da0ba_1d9e_11ea_8af6_87949c6d5fc0row1_col1\" class=\"data row1 col1\" >1</td>\n",
       "            </tr>\n",
       "    </tbody></table>"
      ],
      "text/plain": [
       "<pandas.io.formats.style.Styler at 0x7f7bd80fdb00>"
      ]
     },
     "execution_count": 1018,
     "metadata": {},
     "output_type": "execute_result"
    }
   ],
   "source": [
    "corr2 = coor_tide_flood[['Tide_Weight','Flood']].corr()\n",
    "corr2.style.background_gradient(cmap='coolwarm')"
   ]
  },
  {
   "cell_type": "markdown",
   "metadata": {},
   "source": [
    "## correlation between tide and flood\n",
    "\n",
    "\n",
    "\n",
    "\n",
    "\n",
    "## ------------------------\n",
    "\n"
   ]
  },
  {
   "cell_type": "code",
   "execution_count": 1019,
   "metadata": {},
   "outputs": [],
   "source": [
    "coor_flood_rain= pd.merge(rain_coor, flood_coor,on=['Month','Day','Year','Hour'], how='left')"
   ]
  },
  {
   "cell_type": "code",
   "execution_count": 1020,
   "metadata": {},
   "outputs": [
    {
     "data": {
      "text/html": [
       "<div>\n",
       "<style scoped>\n",
       "    .dataframe tbody tr th:only-of-type {\n",
       "        vertical-align: middle;\n",
       "    }\n",
       "\n",
       "    .dataframe tbody tr th {\n",
       "        vertical-align: top;\n",
       "    }\n",
       "\n",
       "    .dataframe thead th {\n",
       "        text-align: right;\n",
       "    }\n",
       "</style>\n",
       "<table border=\"1\" class=\"dataframe\">\n",
       "  <thead>\n",
       "    <tr style=\"text-align: right;\">\n",
       "      <th></th>\n",
       "      <th>Year</th>\n",
       "      <th>Month</th>\n",
       "      <th>Day</th>\n",
       "      <th>Hour</th>\n",
       "      <th>Minute_x</th>\n",
       "      <th>Station1</th>\n",
       "      <th>Station2</th>\n",
       "      <th>Flood_Date</th>\n",
       "      <th>Flood_Hour</th>\n",
       "      <th>Flood_X</th>\n",
       "      <th>Flood_Y</th>\n",
       "      <th>Minute_y</th>\n",
       "      <th>Flood</th>\n",
       "    </tr>\n",
       "  </thead>\n",
       "  <tbody>\n",
       "    <tr>\n",
       "      <th>0</th>\n",
       "      <td>2011</td>\n",
       "      <td>8</td>\n",
       "      <td>31</td>\n",
       "      <td>0</td>\n",
       "      <td>0</td>\n",
       "      <td>0.0</td>\n",
       "      <td>0.0</td>\n",
       "      <td>NaN</td>\n",
       "      <td>NaN</td>\n",
       "      <td>NaN</td>\n",
       "      <td>NaN</td>\n",
       "      <td>NaN</td>\n",
       "      <td>True</td>\n",
       "    </tr>\n",
       "    <tr>\n",
       "      <th>1</th>\n",
       "      <td>2011</td>\n",
       "      <td>8</td>\n",
       "      <td>31</td>\n",
       "      <td>0</td>\n",
       "      <td>10</td>\n",
       "      <td>0.0</td>\n",
       "      <td>0.0</td>\n",
       "      <td>NaN</td>\n",
       "      <td>NaN</td>\n",
       "      <td>NaN</td>\n",
       "      <td>NaN</td>\n",
       "      <td>NaN</td>\n",
       "      <td>True</td>\n",
       "    </tr>\n",
       "    <tr>\n",
       "      <th>2</th>\n",
       "      <td>2011</td>\n",
       "      <td>8</td>\n",
       "      <td>31</td>\n",
       "      <td>0</td>\n",
       "      <td>20</td>\n",
       "      <td>0.0</td>\n",
       "      <td>0.0</td>\n",
       "      <td>NaN</td>\n",
       "      <td>NaN</td>\n",
       "      <td>NaN</td>\n",
       "      <td>NaN</td>\n",
       "      <td>NaN</td>\n",
       "      <td>True</td>\n",
       "    </tr>\n",
       "    <tr>\n",
       "      <th>3</th>\n",
       "      <td>2011</td>\n",
       "      <td>8</td>\n",
       "      <td>31</td>\n",
       "      <td>0</td>\n",
       "      <td>30</td>\n",
       "      <td>0.0</td>\n",
       "      <td>0.0</td>\n",
       "      <td>NaN</td>\n",
       "      <td>NaN</td>\n",
       "      <td>NaN</td>\n",
       "      <td>NaN</td>\n",
       "      <td>NaN</td>\n",
       "      <td>True</td>\n",
       "    </tr>\n",
       "    <tr>\n",
       "      <th>4</th>\n",
       "      <td>2011</td>\n",
       "      <td>8</td>\n",
       "      <td>31</td>\n",
       "      <td>0</td>\n",
       "      <td>40</td>\n",
       "      <td>0.0</td>\n",
       "      <td>0.0</td>\n",
       "      <td>NaN</td>\n",
       "      <td>NaN</td>\n",
       "      <td>NaN</td>\n",
       "      <td>NaN</td>\n",
       "      <td>NaN</td>\n",
       "      <td>True</td>\n",
       "    </tr>\n",
       "  </tbody>\n",
       "</table>\n",
       "</div>"
      ],
      "text/plain": [
       "   Year  Month  Day  Hour  Minute_x  Station1  Station2 Flood_Date Flood_Hour  \\\n",
       "0  2011      8   31     0         0       0.0       0.0        NaN        NaN   \n",
       "1  2011      8   31     0        10       0.0       0.0        NaN        NaN   \n",
       "2  2011      8   31     0        20       0.0       0.0        NaN        NaN   \n",
       "3  2011      8   31     0        30       0.0       0.0        NaN        NaN   \n",
       "4  2011      8   31     0        40       0.0       0.0        NaN        NaN   \n",
       "\n",
       "   Flood_X  Flood_Y  Minute_y  Flood  \n",
       "0      NaN      NaN       NaN   True  \n",
       "1      NaN      NaN       NaN   True  \n",
       "2      NaN      NaN       NaN   True  \n",
       "3      NaN      NaN       NaN   True  \n",
       "4      NaN      NaN       NaN   True  "
      ]
     },
     "execution_count": 1020,
     "metadata": {},
     "output_type": "execute_result"
    }
   ],
   "source": [
    "coor_flood_rain['Flood']=coor_flood_rain['Flood_Date'].isnull()\n",
    "coor_flood_rain.head()"
   ]
  },
  {
   "cell_type": "code",
   "execution_count": 1021,
   "metadata": {},
   "outputs": [
    {
     "data": {
      "text/html": [
       "<style  type=\"text/css\" >\n",
       "    #T_379a6eea_1d9e_11ea_8af6_87949c6d5fc0row0_col0 {\n",
       "            background-color:  #b40426;\n",
       "            color:  #f1f1f1;\n",
       "        }    #T_379a6eea_1d9e_11ea_8af6_87949c6d5fc0row0_col1 {\n",
       "            background-color:  #536edd;\n",
       "            color:  #000000;\n",
       "        }    #T_379a6eea_1d9e_11ea_8af6_87949c6d5fc0row0_col2 {\n",
       "            background-color:  #5b7ae5;\n",
       "            color:  #000000;\n",
       "        }    #T_379a6eea_1d9e_11ea_8af6_87949c6d5fc0row1_col0 {\n",
       "            background-color:  #3b4cc0;\n",
       "            color:  #f1f1f1;\n",
       "        }    #T_379a6eea_1d9e_11ea_8af6_87949c6d5fc0row1_col1 {\n",
       "            background-color:  #b40426;\n",
       "            color:  #f1f1f1;\n",
       "        }    #T_379a6eea_1d9e_11ea_8af6_87949c6d5fc0row1_col2 {\n",
       "            background-color:  #3b4cc0;\n",
       "            color:  #f1f1f1;\n",
       "        }    #T_379a6eea_1d9e_11ea_8af6_87949c6d5fc0row2_col0 {\n",
       "            background-color:  #4358cb;\n",
       "            color:  #f1f1f1;\n",
       "        }    #T_379a6eea_1d9e_11ea_8af6_87949c6d5fc0row2_col1 {\n",
       "            background-color:  #3b4cc0;\n",
       "            color:  #f1f1f1;\n",
       "        }    #T_379a6eea_1d9e_11ea_8af6_87949c6d5fc0row2_col2 {\n",
       "            background-color:  #b40426;\n",
       "            color:  #f1f1f1;\n",
       "        }</style><table id=\"T_379a6eea_1d9e_11ea_8af6_87949c6d5fc0\" ><thead>    <tr>        <th class=\"blank level0\" ></th>        <th class=\"col_heading level0 col0\" >Station1</th>        <th class=\"col_heading level0 col1\" >Station2</th>        <th class=\"col_heading level0 col2\" >Flood</th>    </tr></thead><tbody>\n",
       "                <tr>\n",
       "                        <th id=\"T_379a6eea_1d9e_11ea_8af6_87949c6d5fc0level0_row0\" class=\"row_heading level0 row0\" >Station1</th>\n",
       "                        <td id=\"T_379a6eea_1d9e_11ea_8af6_87949c6d5fc0row0_col0\" class=\"data row0 col0\" >1</td>\n",
       "                        <td id=\"T_379a6eea_1d9e_11ea_8af6_87949c6d5fc0row0_col1\" class=\"data row0 col1\" >0.0953183</td>\n",
       "                        <td id=\"T_379a6eea_1d9e_11ea_8af6_87949c6d5fc0row0_col2\" class=\"data row0 col2\" >0.120843</td>\n",
       "            </tr>\n",
       "            <tr>\n",
       "                        <th id=\"T_379a6eea_1d9e_11ea_8af6_87949c6d5fc0level0_row1\" class=\"row_heading level0 row1\" >Station2</th>\n",
       "                        <td id=\"T_379a6eea_1d9e_11ea_8af6_87949c6d5fc0row1_col0\" class=\"data row1 col0\" >0.0953183</td>\n",
       "                        <td id=\"T_379a6eea_1d9e_11ea_8af6_87949c6d5fc0row1_col1\" class=\"data row1 col1\" >1</td>\n",
       "                        <td id=\"T_379a6eea_1d9e_11ea_8af6_87949c6d5fc0row1_col2\" class=\"data row1 col2\" >0.0164205</td>\n",
       "            </tr>\n",
       "            <tr>\n",
       "                        <th id=\"T_379a6eea_1d9e_11ea_8af6_87949c6d5fc0level0_row2\" class=\"row_heading level0 row2\" >Flood</th>\n",
       "                        <td id=\"T_379a6eea_1d9e_11ea_8af6_87949c6d5fc0row2_col0\" class=\"data row2 col0\" >0.120843</td>\n",
       "                        <td id=\"T_379a6eea_1d9e_11ea_8af6_87949c6d5fc0row2_col1\" class=\"data row2 col1\" >0.0164205</td>\n",
       "                        <td id=\"T_379a6eea_1d9e_11ea_8af6_87949c6d5fc0row2_col2\" class=\"data row2 col2\" >1</td>\n",
       "            </tr>\n",
       "    </tbody></table>"
      ],
      "text/plain": [
       "<pandas.io.formats.style.Styler at 0x7f7bd81ef978>"
      ]
     },
     "execution_count": 1021,
     "metadata": {},
     "output_type": "execute_result"
    }
   ],
   "source": [
    "corr3 = coor_flood_rain[['Station1','Station2','Flood']].corr()\n",
    "corr3.style.background_gradient(cmap='coolwarm')"
   ]
  },
  {
   "cell_type": "markdown",
   "metadata": {},
   "source": [
    "## correlation between flood and precetition\n",
    "\n",
    "\n",
    "\n",
    "\n",
    "\n",
    "## ------------------------\n",
    "\n"
   ]
  },
  {
   "cell_type": "code",
   "execution_count": null,
   "metadata": {},
   "outputs": [],
   "source": []
  },
  {
   "cell_type": "code",
   "execution_count": null,
   "metadata": {},
   "outputs": [],
   "source": []
  }
 ],
 "metadata": {
  "kernelspec": {
   "display_name": "Python 3",
   "language": "python",
   "name": "python3"
  },
  "language_info": {
   "codemirror_mode": {
    "name": "ipython",
    "version": 3
   },
   "file_extension": ".py",
   "mimetype": "text/x-python",
   "name": "python",
   "nbconvert_exporter": "python",
   "pygments_lexer": "ipython3",
   "version": "3.7.3"
  }
 },
 "nbformat": 4,
 "nbformat_minor": 2
}
